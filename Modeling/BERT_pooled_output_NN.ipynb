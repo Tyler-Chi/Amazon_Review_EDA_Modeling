{
 "cells": [
  {
   "cell_type": "markdown",
   "id": "b04cb339-1f31-47e3-a302-dfaff614ce68",
   "metadata": {},
   "source": [
    "# Regression Model using the pooled_token from BERT"
   ]
  },
  {
   "cell_type": "code",
   "execution_count": 28,
   "id": "bc40d18c-6658-4229-a2c3-97868cade374",
   "metadata": {},
   "outputs": [],
   "source": [
    "import os\n",
    "import shutil\n",
    "\n",
    "import tensorflow as tf\n",
    "import tensorflow_hub as hub\n",
    "import tensorflow_text as text\n",
    "import matplotlib.pyplot as plt\n",
    "import pandas as pd\n",
    "from sklearn.model_selection import train_test_split\n",
    "\n",
    "tf.get_logger().setLevel('ERROR')\n",
    "import numpy as np\n",
    "import statistics\n",
    "# roughly following the docs here: https://www.tensorflow.org/text/tutorials/classify_text_with_bert\n",
    "%run -i ./Model_Eval.ipynb"
   ]
  },
  {
   "cell_type": "markdown",
   "id": "571c9006-0660-4dbc-9726-cc9244734fbd",
   "metadata": {},
   "source": [
    "## Load processed data"
   ]
  },
  {
   "cell_type": "code",
   "execution_count": 2,
   "id": "3fe9010d-ef21-4746-be83-b347ebdb2944",
   "metadata": {},
   "outputs": [],
   "source": [
    "one_star_reviews = pd.read_csv(\"../Training_Data/one_star_reviews_balanced.csv\")"
   ]
  },
  {
   "cell_type": "code",
   "execution_count": 3,
   "id": "7e6b7d38-0eff-4fd8-acff-9eb011de2c93",
   "metadata": {},
   "outputs": [],
   "source": [
    "x, y = one_star_reviews['full_text'].values, one_star_reviews['reviewer_avg_rating'].values"
   ]
  },
  {
   "cell_type": "code",
   "execution_count": 4,
   "id": "5fee0a81-fc15-40d9-84f7-8150591e7833",
   "metadata": {},
   "outputs": [],
   "source": [
    "X_train, X_test, Y_train, Y_test = train_test_split(x,y, test_size=0.33, random_state=42)"
   ]
  },
  {
   "cell_type": "code",
   "execution_count": 5,
   "id": "d0f6254a-ca8d-499e-a5f8-f5b46c53b583",
   "metadata": {},
   "outputs": [],
   "source": [
    "bert_model_name = 'bert_multi_cased_L-12_H-768_A-12'\n",
    "tfhub_handle_encoder = 'https://tfhub.dev/tensorflow/bert_multi_cased_L-12_H-768_A-12/3'\n",
    "tfhub_handle_preprocess = 'https://tfhub.dev/tensorflow/bert_multi_cased_preprocess/3'"
   ]
  },
  {
   "cell_type": "code",
   "execution_count": 6,
   "id": "849fd6ed-8250-4d03-955e-aa0fde8bcc01",
   "metadata": {},
   "outputs": [
    {
     "name": "stderr",
     "output_type": "stream",
     "text": [
      "2023-02-06 21:59:34.630890: I tensorflow/compiler/xla/stream_executor/cuda/cuda_gpu_executor.cc:967] could not open file to read NUMA node: /sys/bus/pci/devices/0000:01:00.0/numa_node\n",
      "Your kernel may have been built without NUMA support.\n",
      "2023-02-06 21:59:34.639195: I tensorflow/compiler/xla/stream_executor/cuda/cuda_gpu_executor.cc:967] could not open file to read NUMA node: /sys/bus/pci/devices/0000:01:00.0/numa_node\n",
      "Your kernel may have been built without NUMA support.\n",
      "2023-02-06 21:59:34.639776: I tensorflow/compiler/xla/stream_executor/cuda/cuda_gpu_executor.cc:967] could not open file to read NUMA node: /sys/bus/pci/devices/0000:01:00.0/numa_node\n",
      "Your kernel may have been built without NUMA support.\n",
      "2023-02-06 21:59:34.640421: I tensorflow/core/platform/cpu_feature_guard.cc:193] This TensorFlow binary is optimized with oneAPI Deep Neural Network Library (oneDNN) to use the following CPU instructions in performance-critical operations:  AVX2 AVX512F AVX512_VNNI FMA\n",
      "To enable them in other operations, rebuild TensorFlow with the appropriate compiler flags.\n",
      "2023-02-06 21:59:34.642026: I tensorflow/compiler/xla/stream_executor/cuda/cuda_gpu_executor.cc:967] could not open file to read NUMA node: /sys/bus/pci/devices/0000:01:00.0/numa_node\n",
      "Your kernel may have been built without NUMA support.\n",
      "2023-02-06 21:59:34.642682: I tensorflow/compiler/xla/stream_executor/cuda/cuda_gpu_executor.cc:967] could not open file to read NUMA node: /sys/bus/pci/devices/0000:01:00.0/numa_node\n",
      "Your kernel may have been built without NUMA support.\n",
      "2023-02-06 21:59:34.643375: I tensorflow/compiler/xla/stream_executor/cuda/cuda_gpu_executor.cc:967] could not open file to read NUMA node: /sys/bus/pci/devices/0000:01:00.0/numa_node\n",
      "Your kernel may have been built without NUMA support.\n",
      "2023-02-06 21:59:35.302628: I tensorflow/compiler/xla/stream_executor/cuda/cuda_gpu_executor.cc:967] could not open file to read NUMA node: /sys/bus/pci/devices/0000:01:00.0/numa_node\n",
      "Your kernel may have been built without NUMA support.\n",
      "2023-02-06 21:59:35.304024: I tensorflow/compiler/xla/stream_executor/cuda/cuda_gpu_executor.cc:967] could not open file to read NUMA node: /sys/bus/pci/devices/0000:01:00.0/numa_node\n",
      "Your kernel may have been built without NUMA support.\n",
      "2023-02-06 21:59:35.304060: I tensorflow/core/common_runtime/gpu/gpu_device.cc:1700] Could not identify NUMA node of platform GPU id 0, defaulting to 0.  Your kernel may not have been built with NUMA support.\n",
      "2023-02-06 21:59:35.305170: I tensorflow/compiler/xla/stream_executor/cuda/cuda_gpu_executor.cc:967] could not open file to read NUMA node: /sys/bus/pci/devices/0000:01:00.0/numa_node\n",
      "Your kernel may have been built without NUMA support.\n",
      "2023-02-06 21:59:35.305311: I tensorflow/core/common_runtime/gpu/gpu_device.cc:1613] Created device /job:localhost/replica:0/task:0/device:GPU:0 with 7369 MB memory:  -> device: 0, name: NVIDIA GeForce RTX 3080, pci bus id: 0000:01:00.0, compute capability: 8.6\n"
     ]
    }
   ],
   "source": [
    "bert_preprocess_model = hub.KerasLayer(tfhub_handle_preprocess)\n",
    "text_test = ['this is such an amazing movie!']\n",
    "text_preprocessed = bert_preprocess_model(text_test)"
   ]
  },
  {
   "cell_type": "code",
   "execution_count": 7,
   "id": "fddff0fe-ab24-4122-b777-1fa6b9024870",
   "metadata": {},
   "outputs": [],
   "source": [
    "bert_model = hub.KerasLayer(tfhub_handle_encoder)"
   ]
  },
  {
   "cell_type": "code",
   "execution_count": 8,
   "id": "429e4ccb-8083-45e9-b642-b7c540be8c53",
   "metadata": {},
   "outputs": [],
   "source": [
    "def build_model():\n",
    "    text_input = tf.keras.layers.Input(shape=(), dtype=tf.string, name='text')\n",
    "    # process for bert\n",
    "    preprocessing_layer = hub.KerasLayer(tfhub_handle_preprocess, name='preprocessing')\n",
    "    encoder_inputs = preprocessing_layer(text_input)\n",
    "    encoder = hub.KerasLayer(tfhub_handle_encoder, trainable=False, name='BERT_encoder') # FREEZE for now\n",
    "    outputs = encoder(encoder_inputs)\n",
    "    \n",
    "    net = outputs['pooled_output'] # this is a tensor, single token representation of the sequence.\n",
    "    \n",
    "    net = tf.keras.layers.Dense(200, activation='relu')(net)\n",
    "    net = tf.keras.layers.Dense(200, activation='relu')(net)\n",
    "    net = tf.keras.layers.Dropout(0.1)(net)\n",
    "    \n",
    "    regression = tf.keras.layers.Dense(1, activation='linear', name='prediction_layer')(net)\n",
    "    \n",
    "    regression_model = tf.keras.Model(inputs=text_input, outputs=regression)\n",
    "    \n",
    "    regression_model.compile(optimizer='adam', loss='mean_squared_error')\n",
    "    \n",
    "    return regression_model\n",
    "    "
   ]
  },
  {
   "cell_type": "code",
   "execution_count": 9,
   "id": "ee71a90c-9d2c-440b-82dd-859141b166ff",
   "metadata": {},
   "outputs": [],
   "source": [
    "classifier_model = build_model()"
   ]
  },
  {
   "cell_type": "code",
   "execution_count": 10,
   "id": "5ee3ded6-664a-41df-8c40-76683de03b59",
   "metadata": {},
   "outputs": [
    {
     "data": {
      "text/plain": [
       "True"
      ]
     },
     "execution_count": 10,
     "metadata": {},
     "output_type": "execute_result"
    }
   ],
   "source": [
    "type(X_train[0]) == str"
   ]
  },
  {
   "cell_type": "code",
   "execution_count": 11,
   "id": "9f7f92da-05c6-4e8d-a685-00a89eb2e30a",
   "metadata": {},
   "outputs": [
    {
     "data": {
      "text/plain": [
       "1.1143282376765897"
      ]
     },
     "execution_count": 11,
     "metadata": {},
     "output_type": "execute_result"
    }
   ],
   "source": [
    "# look at variance of training set\n",
    "statistics.variance(Y_train)"
   ]
  },
  {
   "cell_type": "code",
   "execution_count": 12,
   "id": "c17247c5-0900-4d3b-aac1-438daeeba285",
   "metadata": {},
   "outputs": [
    {
     "name": "stdout",
     "output_type": "stream",
     "text": [
      "Epoch 1/5\n"
     ]
    },
    {
     "name": "stderr",
     "output_type": "stream",
     "text": [
      "2023-02-06 22:00:02.351612: I tensorflow/compiler/xla/stream_executor/cuda/cuda_blas.cc:630] TensorFloat-32 will be used for the matrix multiplication. This will only be logged once.\n",
      "2023-02-06 22:00:02.612282: I tensorflow/compiler/xla/service/service.cc:173] XLA service 0x2f9f63d0 initialized for platform CUDA (this does not guarantee that XLA will be used). Devices:\n",
      "2023-02-06 22:00:02.612339: I tensorflow/compiler/xla/service/service.cc:181]   StreamExecutor device (0): NVIDIA GeForce RTX 3080, Compute Capability 8.6\n",
      "2023-02-06 22:00:02.617251: I tensorflow/compiler/mlir/tensorflow/utils/dump_mlir_util.cc:268] disabling MLIR crash reproducer, set env var `MLIR_CRASH_REPRODUCER_DIRECTORY` to enable.\n",
      "2023-02-06 22:00:02.720970: I tensorflow/tsl/platform/default/subprocess.cc:304] Start cannot spawn child process: No such file or directory\n",
      "2023-02-06 22:00:02.751073: I tensorflow/compiler/jit/xla_compilation_cache.cc:477] Compiled cluster using XLA!  This line is logged at most once for the lifetime of the process.\n"
     ]
    },
    {
     "name": "stdout",
     "output_type": "stream",
     "text": [
      "35052/35052 [==============================] - 9719s 277ms/step - loss: 1.1247 - val_loss: 1.0945\n",
      "Epoch 2/5\n",
      "35052/35052 [==============================] - 8471s 242ms/step - loss: 1.1039 - val_loss: 1.1026\n",
      "Epoch 3/5\n",
      "35052/35052 [==============================] - 7292s 208ms/step - loss: 1.0991 - val_loss: 1.1093\n",
      "Epoch 4/5\n",
      "35052/35052 [==============================] - 7297s 208ms/step - loss: 1.0960 - val_loss: 1.0923\n",
      "Epoch 5/5\n",
      "35052/35052 [==============================] - 7304s 208ms/step - loss: 1.0938 - val_loss: 1.0960\n"
     ]
    }
   ],
   "source": [
    "history = classifier_model.fit(\n",
    "    X_train,\n",
    "    Y_train,\n",
    "    batch_size=20,\n",
    "    validation_data=(X_test, Y_test),\n",
    "    epochs=5\n",
    ")"
   ]
  },
  {
   "cell_type": "code",
   "execution_count": 29,
   "id": "34721098-d95e-409b-bb0a-f3f607f75dc6",
   "metadata": {},
   "outputs": [
    {
     "data": {
      "image/png": "[encoded data removed]",
      "text/plain": [
       "<Figure size 640x480 with 1 Axes>"
      ]
     },
     "metadata": {},
     "output_type": "display_data"
    }
   ],
   "source": [
    "plot_loss(history)"
   ]
  },
  {
   "cell_type": "markdown",
   "id": "d6a1d276-2aff-4c67-a45a-6ea283557a83",
   "metadata": {},
   "source": [
    "## The model only performs marginally better than the mean (variance was 1.114, best loss was ~1.09)\n",
    "## That is roughly an R2 score of 0.014, so the model only explains 1.4% of the variance of the dataset"
   ]
  },
  {
   "cell_type": "code",
   "execution_count": 31,
   "id": "d0c0c30c-6a99-4a65-83d1-69302945763b",
   "metadata": {},
   "outputs": [
    {
     "name": "stderr",
     "output_type": "stream",
     "text": [
      "WARNING:absl:Found untraced functions such as restored_function_body, restored_function_body, restored_function_body, restored_function_body, restored_function_body while saving (showing 5 of 364). These functions will not be directly callable after loading.\n"
     ]
    }
   ],
   "source": [
    "classifier_model.save(\"./Saved_Models/bert_pooleld_output_NN\")"
   ]
  }
 ],
 "metadata": {
  "kernelspec": {
   "display_name": "Python 3 (ipykernel)",
   "language": "python",
   "name": "python3"
  },
  "language_info": {
   "codemirror_mode": {
    "name": "ipython",
    "version": 3
   },
   "file_extension": ".py",
   "mimetype": "text/x-python",
   "name": "python",
   "nbconvert_exporter": "python",
   "pygments_lexer": "ipython3",
   "version": "3.8.10"
  }
 },
 "nbformat": 4,
 "nbformat_minor": 5
}
