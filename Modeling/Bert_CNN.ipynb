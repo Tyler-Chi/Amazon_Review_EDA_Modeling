{
 "cells": [
  {
   "cell_type": "code",
   "execution_count": 1,
   "id": "5e053dfe-8343-41e8-9aad-6e7479876be7",
   "metadata": {
    "tags": []
   },
   "outputs": [
    {
     "name": "stderr",
     "output_type": "stream",
     "text": [
      "2023-02-17 00:12:53.577264: I tensorflow/core/platform/cpu_feature_guard.cc:193] This TensorFlow binary is optimized with oneAPI Deep Neural Network Library (oneDNN) to use the following CPU instructions in performance-critical operations:  AVX2 AVX512F AVX512_VNNI FMA\n",
      "To enable them in other operations, rebuild TensorFlow with the appropriate compiler flags.\n",
      "2023-02-17 00:12:53.669096: I tensorflow/core/util/port.cc:104] oneDNN custom operations are on. You may see slightly different numerical results due to floating-point round-off errors from different computation orders. To turn them off, set the environment variable `TF_ENABLE_ONEDNN_OPTS=0`.\n",
      "2023-02-17 00:12:54.084372: W tensorflow/compiler/xla/stream_executor/platform/default/dso_loader.cc:64] Could not load dynamic library 'libnvinfer.so.7'; dlerror: libnvinfer.so.7: cannot open shared object file: No such file or directory; LD_LIBRARY_PATH: :/home/tychi/miniconda3/lib/\n",
      "2023-02-17 00:12:54.084447: W tensorflow/compiler/xla/stream_executor/platform/default/dso_loader.cc:64] Could not load dynamic library 'libnvinfer_plugin.so.7'; dlerror: libnvinfer_plugin.so.7: cannot open shared object file: No such file or directory; LD_LIBRARY_PATH: :/home/tychi/miniconda3/lib/\n",
      "2023-02-17 00:12:54.084453: W tensorflow/compiler/tf2tensorrt/utils/py_utils.cc:38] TF-TRT Warning: Cannot dlopen some TensorRT libraries. If you would like to use Nvidia GPU with TensorRT, please make sure the missing libraries mentioned above are installed properly.\n"
     ]
    }
   ],
   "source": [
    "import numpy as np\n",
    "import tensorflow as tf\n",
    "from tensorflow import keras\n",
    "\n",
    "from tensorflow.keras.layers import Embedding, Input, Dense, Lambda\n",
    "from tensorflow.keras.models import Model\n",
    "import tensorflow.keras.backend as K\n",
    "import seaborn as sns\n",
    "import sklearn as sk\n",
    "import os\n",
    "import nltk\n",
    "from nltk.data import find\n",
    "import matplotlib.pyplot as plt\n",
    "import pandas as pd\n",
    "import re\n",
    "from sklearn.model_selection import train_test_split\n",
    "from contextlib import redirect_stdout\n",
    "import statistics\n",
    "import pickle\n",
    "%run -i ./Model_Eval.ipynb"
   ]
  },
  {
   "cell_type": "code",
   "execution_count": 2,
   "id": "6f0c18ed-5efd-44f7-85e8-1450d0d20464",
   "metadata": {},
   "outputs": [],
   "source": [
    "from transformers import BertTokenizer, TFBertModel"
   ]
  },
  {
   "cell_type": "code",
   "execution_count": 3,
   "id": "0e4d1b64-9706-4fc7-9845-4e2cd8dd819f",
   "metadata": {
    "tags": []
   },
   "outputs": [
    {
     "name": "stderr",
     "output_type": "stream",
     "text": [
      "2023-02-17 00:12:56.592645: I tensorflow/compiler/xla/stream_executor/cuda/cuda_gpu_executor.cc:967] could not open file to read NUMA node: /sys/bus/pci/devices/0000:01:00.0/numa_node\n",
      "Your kernel may have been built without NUMA support.\n",
      "2023-02-17 00:12:56.597249: I tensorflow/compiler/xla/stream_executor/cuda/cuda_gpu_executor.cc:967] could not open file to read NUMA node: /sys/bus/pci/devices/0000:01:00.0/numa_node\n",
      "Your kernel may have been built without NUMA support.\n",
      "2023-02-17 00:12:56.597508: I tensorflow/compiler/xla/stream_executor/cuda/cuda_gpu_executor.cc:967] could not open file to read NUMA node: /sys/bus/pci/devices/0000:01:00.0/numa_node\n",
      "Your kernel may have been built without NUMA support.\n",
      "2023-02-17 00:12:56.597784: I tensorflow/core/platform/cpu_feature_guard.cc:193] This TensorFlow binary is optimized with oneAPI Deep Neural Network Library (oneDNN) to use the following CPU instructions in performance-critical operations:  AVX2 AVX512F AVX512_VNNI FMA\n",
      "To enable them in other operations, rebuild TensorFlow with the appropriate compiler flags.\n",
      "2023-02-17 00:12:56.598768: I tensorflow/compiler/xla/stream_executor/cuda/cuda_gpu_executor.cc:967] could not open file to read NUMA node: /sys/bus/pci/devices/0000:01:00.0/numa_node\n",
      "Your kernel may have been built without NUMA support.\n",
      "2023-02-17 00:12:56.599089: I tensorflow/compiler/xla/stream_executor/cuda/cuda_gpu_executor.cc:967] could not open file to read NUMA node: /sys/bus/pci/devices/0000:01:00.0/numa_node\n",
      "Your kernel may have been built without NUMA support.\n",
      "2023-02-17 00:12:56.599407: I tensorflow/compiler/xla/stream_executor/cuda/cuda_gpu_executor.cc:967] could not open file to read NUMA node: /sys/bus/pci/devices/0000:01:00.0/numa_node\n",
      "Your kernel may have been built without NUMA support.\n",
      "2023-02-17 00:12:57.167213: I tensorflow/compiler/xla/stream_executor/cuda/cuda_gpu_executor.cc:967] could not open file to read NUMA node: /sys/bus/pci/devices/0000:01:00.0/numa_node\n",
      "Your kernel may have been built without NUMA support.\n",
      "2023-02-17 00:12:57.167634: I tensorflow/compiler/xla/stream_executor/cuda/cuda_gpu_executor.cc:967] could not open file to read NUMA node: /sys/bus/pci/devices/0000:01:00.0/numa_node\n",
      "Your kernel may have been built without NUMA support.\n",
      "2023-02-17 00:12:57.167644: I tensorflow/core/common_runtime/gpu/gpu_device.cc:1700] Could not identify NUMA node of platform GPU id 0, defaulting to 0.  Your kernel may not have been built with NUMA support.\n",
      "2023-02-17 00:12:57.167908: I tensorflow/compiler/xla/stream_executor/cuda/cuda_gpu_executor.cc:967] could not open file to read NUMA node: /sys/bus/pci/devices/0000:01:00.0/numa_node\n",
      "Your kernel may have been built without NUMA support.\n",
      "2023-02-17 00:12:57.167947: I tensorflow/core/common_runtime/gpu/gpu_device.cc:1613] Created device /job:localhost/replica:0/task:0/device:GPU:0 with 7369 MB memory:  -> device: 0, name: NVIDIA GeForce RTX 3080, pci bus id: 0000:01:00.0, compute capability: 8.6\n",
      "2023-02-17 00:12:58.161228: I tensorflow/compiler/xla/stream_executor/cuda/cuda_blas.cc:630] TensorFloat-32 will be used for the matrix multiplication. This will only be logged once.\n",
      "Some layers from the model checkpoint at bert-base-cased were not used when initializing TFBertModel: ['mlm___cls', 'nsp___cls']\n",
      "- This IS expected if you are initializing TFBertModel from the checkpoint of a model trained on another task or with another architecture (e.g. initializing a BertForSequenceClassification model from a BertForPreTraining model).\n",
      "- This IS NOT expected if you are initializing TFBertModel from the checkpoint of a model that you expect to be exactly identical (initializing a BertForSequenceClassification model from a BertForSequenceClassification model).\n",
      "All the layers of TFBertModel were initialized from the model checkpoint at bert-base-cased.\n",
      "If your task is similar to the task the model of the checkpoint was trained on, you can already use TFBertModel for predictions without further training.\n"
     ]
    }
   ],
   "source": [
    "bert_tokenizer = BertTokenizer.from_pretrained('bert-base-cased')\n",
    "bert_model = TFBertModel.from_pretrained('bert-base-cased')"
   ]
  },
  {
   "cell_type": "code",
   "execution_count": 4,
   "id": "dfc8b38a-f186-4f3a-a461-1a4161a1a990",
   "metadata": {},
   "outputs": [],
   "source": [
    "one_star_reviews = pd.read_csv(\"../Training_Data/one_star_reviews_balanced.csv\", nrows=500000)\n",
    "# one_star_reviews = pd.read_csv(\"../Training_Data/one_star_reviews_balanced.csv\", nrows=5000)"
   ]
  },
  {
   "cell_type": "code",
   "execution_count": 5,
   "id": "11064def-fe55-4029-b817-a325d44daa15",
   "metadata": {},
   "outputs": [],
   "source": [
    "lengths = [len(text.split(' ')) for text in one_star_reviews['full_text'].values if len(text.split(' ')) < 250]"
   ]
  },
  {
   "cell_type": "code",
   "execution_count": 6,
   "id": "54e9c8af-81b8-406a-838d-d18d662d177b",
   "metadata": {},
   "outputs": [
    {
     "data": {
      "image/png": "[encoded data removed]",
      "text/plain": [
       "<Figure size 500x500 with 1 Axes>"
      ]
     },
     "metadata": {},
     "output_type": "display_data"
    }
   ],
   "source": [
    "sns.displot(lengths, bins=15)\n",
    "plt.xlabel('# Words in Review')\n",
    "plt.show()"
   ]
  },
  {
   "cell_type": "markdown",
   "id": "540aa026-bd88-440e-9355-c95b45b1152d",
   "metadata": {},
   "source": [
    "## Should be able to cap tokenizer length at 50, to reduce the window for CNN layers to convolve over."
   ]
  },
  {
   "cell_type": "code",
   "execution_count": 7,
   "id": "3dad77f8-baad-4dbc-9935-24d85359b9a6",
   "metadata": {},
   "outputs": [],
   "source": [
    "max_length = 50"
   ]
  },
  {
   "cell_type": "code",
   "execution_count": 8,
   "id": "147e3aa1-8353-4f1e-ae82-9af1ad47dc7e",
   "metadata": {},
   "outputs": [],
   "source": [
    "train, test = train_test_split(one_star_reviews, test_size=0.33, random_state=42)"
   ]
  },
  {
   "cell_type": "code",
   "execution_count": 9,
   "id": "6c767763-f8a5-4e32-b9a0-087a3cf54cdf",
   "metadata": {},
   "outputs": [],
   "source": [
    "x_train = bert_tokenizer(train['full_text'].tolist(),\n",
    "              max_length=max_length,\n",
    "              truncation=True,\n",
    "              padding='max_length', \n",
    "              return_tensors='tf')\n",
    "y_train = tf.convert_to_tensor(train['reviewer_avg_rating'])"
   ]
  },
  {
   "cell_type": "code",
   "execution_count": 10,
   "id": "6ef107a8-e21c-4908-8906-c582304082ef",
   "metadata": {},
   "outputs": [],
   "source": [
    "x_test = bert_tokenizer(test['full_text'].tolist(),\n",
    "              max_length=max_length,\n",
    "              truncation=True,\n",
    "              padding='max_length', \n",
    "              return_tensors='tf')\n",
    "y_test = tf.convert_to_tensor(test['reviewer_avg_rating'])"
   ]
  },
  {
   "cell_type": "code",
   "execution_count": 11,
   "id": "1f9580d8-6f8d-41d5-9084-7469adf1074a",
   "metadata": {},
   "outputs": [],
   "source": [
    "def build_bert_cnn_model(bert_model):\n",
    "    bert_model.trainable = False\n",
    "    # 3 BERT input layers\n",
    "    input_ids = tf.keras.layers.Input(shape=(max_length,), dtype=tf.int64, name='input_ids_layer')\n",
    "    token_type_ids = tf.keras.layers.Input(shape=(max_length,), dtype=tf.int64, name='token_type_ids_layer')\n",
    "    attention_mask = tf.keras.layers.Input(shape=(max_length,), dtype=tf.int64, name='attention_mask_layer')\n",
    "\n",
    "    # assemble to pass into bert model\n",
    "    bert_inputs = {'input_ids': input_ids,\n",
    "                   'token_type_ids': token_type_ids,\n",
    "                   'attention_mask': attention_mask}\n",
    "\n",
    "    bert_out = bert_model(bert_inputs)\n",
    "    \n",
    "    sequence_output = bert_out[0]\n",
    "    \n",
    "    cnn_layers = [bert_out[1]] # initialize it with the pooled output, see if that improves model performance.\n",
    "    \n",
    "    # determine these kernel/filters based on max_length\n",
    "    kernel_sizes = [3,4,6]\n",
    "    num_filters = [30,20,15]\n",
    "    \n",
    "    for kernel_size, filters in zip(kernel_sizes, num_filters):\n",
    "        conv_layer = keras.layers.Conv1D(filters=filters, kernel_size=kernel_size, activation='relu')(sequence_output)\n",
    "        pooling_layer = keras.layers.GlobalMaxPooling1D()(conv_layer)\n",
    "        cnn_layers.append(pooling_layer)\n",
    "    \n",
    "    conv_output = tf.keras.layers.concatenate(cnn_layers, axis=1)\n",
    "    \n",
    "    # 2 dense layers\n",
    "    net = keras.layers.Dense(200, activation='relu')(conv_output)\n",
    "    net = keras.layers.Dense(100, activation='relu')(net)\n",
    "    net = keras.layers.Dropout(0.1, name='dropout_0.1')(net)\n",
    "                         \n",
    "    regression = keras.layers.Dense(1, activation='linear', name='prediction_layer')(net)\n",
    "    cnn_model = keras.Model(\n",
    "        inputs=[input_ids, token_type_ids, attention_mask],\n",
    "        outputs=regression\n",
    "    )\n",
    "    \n",
    "    cnn_model.compile(\n",
    "        optimizer=keras.optimizers.Adam(learning_rate=0.0005), # half of the normal learning rate\n",
    "        loss='mean_squared_error'\n",
    "    )\n",
    "                         \n",
    "    return cnn_model"
   ]
  },
  {
   "cell_type": "code",
   "execution_count": 12,
   "id": "9ce4b12d-268d-4291-a296-5aed36813127",
   "metadata": {},
   "outputs": [
    {
     "name": "stdout",
     "output_type": "stream",
     "text": [
      "Model: \"model\"\n",
      "__________________________________________________________________________________________________\n",
      " Layer (type)                   Output Shape         Param #     Connected to                     \n",
      "==================================================================================================\n",
      " attention_mask_layer (InputLay  [(None, 50)]        0           []                               \n",
      " er)                                                                                              \n",
      "                                                                                                  \n",
      " input_ids_layer (InputLayer)   [(None, 50)]         0           []                               \n",
      "                                                                                                  \n",
      " token_type_ids_layer (InputLay  [(None, 50)]        0           []                               \n",
      " er)                                                                                              \n",
      "                                                                                                  \n",
      " tf_bert_model (TFBertModel)    TFBaseModelOutputWi  108310272   ['attention_mask_layer[0][0]',   \n",
      "                                thPoolingAndCrossAt               'input_ids_layer[0][0]',        \n",
      "                                tentions(last_hidde               'token_type_ids_layer[0][0]']   \n",
      "                                n_state=(None, 50,                                                \n",
      "                                768),                                                             \n",
      "                                 pooler_output=(Non                                               \n",
      "                                e, 768),                                                          \n",
      "                                 past_key_values=No                                               \n",
      "                                ne, hidden_states=N                                               \n",
      "                                one, attentions=Non                                               \n",
      "                                e, cross_attentions                                               \n",
      "                                =None)                                                            \n",
      "                                                                                                  \n",
      " conv1d (Conv1D)                (None, 48, 30)       69150       ['tf_bert_model[0][0]']          \n",
      "                                                                                                  \n",
      " conv1d_1 (Conv1D)              (None, 47, 20)       61460       ['tf_bert_model[0][0]']          \n",
      "                                                                                                  \n",
      " conv1d_2 (Conv1D)              (None, 45, 15)       69135       ['tf_bert_model[0][0]']          \n",
      "                                                                                                  \n",
      " global_max_pooling1d (GlobalMa  (None, 30)          0           ['conv1d[0][0]']                 \n",
      " xPooling1D)                                                                                      \n",
      "                                                                                                  \n",
      " global_max_pooling1d_1 (Global  (None, 20)          0           ['conv1d_1[0][0]']               \n",
      " MaxPooling1D)                                                                                    \n",
      "                                                                                                  \n",
      " global_max_pooling1d_2 (Global  (None, 15)          0           ['conv1d_2[0][0]']               \n",
      " MaxPooling1D)                                                                                    \n",
      "                                                                                                  \n",
      " concatenate (Concatenate)      (None, 833)          0           ['tf_bert_model[0][1]',          \n",
      "                                                                  'global_max_pooling1d[0][0]',   \n",
      "                                                                  'global_max_pooling1d_1[0][0]', \n",
      "                                                                  'global_max_pooling1d_2[0][0]'] \n",
      "                                                                                                  \n",
      " dense (Dense)                  (None, 300)          250200      ['concatenate[0][0]']            \n",
      "                                                                                                  \n",
      " l2_0.1_regularization (Dense)  (None, 200)          60200       ['dense[0][0]']                  \n",
      "                                                                                                  \n",
      " dropout_0.1 (Dropout)          (None, 200)          0           ['l2_0.1_regularization[0][0]']  \n",
      "                                                                                                  \n",
      " prediction_layer (Dense)       (None, 1)            201         ['dropout_0.1[0][0]']            \n",
      "                                                                                                  \n",
      "==================================================================================================\n",
      "Total params: 108,820,618\n",
      "Trainable params: 510,346\n",
      "Non-trainable params: 108,310,272\n",
      "__________________________________________________________________________________________________\n"
     ]
    }
   ],
   "source": [
    "cnn_model = build_bert_cnn_model(bert_model)\n",
    "cnn_model.summary()"
   ]
  },
  {
   "cell_type": "code",
   "execution_count": 13,
   "id": "09e5f640-29eb-4309-9f42-6c28f6a08e6a",
   "metadata": {},
   "outputs": [],
   "source": [
    "from datetime import datetime\n",
    "now = datetime.now()\n",
    "import os\n",
    "\n",
    "# just uniique directory name\n",
    "current_time = now.strftime(\"%m_%d_%H\")\n",
    "\n",
    "model_dir = f\"./Model_Results/{current_time}\"\n",
    "\n",
    "os.makedirs(f\"./{model_dir}\")\n",
    "\n",
    "# save the model summary to a text file\n",
    "with open(f'./{model_dir}/modelsummary.txt', 'x') as f:\n",
    "    with redirect_stdout(f):\n",
    "        cnn_model.summary()\n",
    "\n",
    "filename=f'./{model_dir}/log.csv'\n",
    "history_logger=tf.keras.callbacks.CSVLogger(filename, separator=\",\", append=True)"
   ]
  },
  {
   "cell_type": "code",
   "execution_count": 14,
   "id": "730e9975-7135-401e-8c51-93ed1d4c0db3",
   "metadata": {},
   "outputs": [
    {
     "name": "stdout",
     "output_type": "stream",
     "text": [
      "Epoch 1/15\n"
     ]
    },
    {
     "name": "stderr",
     "output_type": "stream",
     "text": [
      "2023-02-17 00:16:43.343789: I tensorflow/compiler/xla/stream_executor/cuda/cuda_dnn.cc:428] Loaded cuDNN version 8100\n",
      "2023-02-17 00:16:44.053897: I tensorflow/tsl/platform/default/subprocess.cc:304] Start cannot spawn child process: No such file or directory\n",
      "2023-02-17 00:16:44.145896: I tensorflow/compiler/xla/service/service.cc:173] XLA service 0x460c31b0 initialized for platform CUDA (this does not guarantee that XLA will be used). Devices:\n",
      "2023-02-17 00:16:44.145925: I tensorflow/compiler/xla/service/service.cc:181]   StreamExecutor device (0): NVIDIA GeForce RTX 3080, Compute Capability 8.6\n",
      "2023-02-17 00:16:44.149467: I tensorflow/compiler/mlir/tensorflow/utils/dump_mlir_util.cc:268] disabling MLIR crash reproducer, set env var `MLIR_CRASH_REPRODUCER_DIRECTORY` to enable.\n",
      "2023-02-17 00:16:44.234108: I tensorflow/tsl/platform/default/subprocess.cc:304] Start cannot spawn child process: No such file or directory\n",
      "2023-02-17 00:16:44.260292: I tensorflow/compiler/jit/xla_compilation_cache.cc:477] Compiled cluster using XLA!  This line is logged at most once for the lifetime of the process.\n"
     ]
    },
    {
     "name": "stdout",
     "output_type": "stream",
     "text": [
      "10469/10469 [==============================] - 1534s 146ms/step - loss: 1.4952 - val_loss: 1.1521\n",
      "Epoch 2/15\n",
      "10469/10469 [==============================] - 1513s 145ms/step - loss: 1.1682 - val_loss: 1.1546\n",
      "Epoch 3/15\n",
      "10469/10469 [==============================] - 1511s 144ms/step - loss: 1.1578 - val_loss: 1.1489\n",
      "Epoch 4/15\n",
      "10469/10469 [==============================] - 1514s 145ms/step - loss: 1.1472 - val_loss: 1.1571\n",
      "Epoch 5/15\n",
      "10469/10469 [==============================] - 1513s 145ms/step - loss: 1.1386 - val_loss: 1.1531\n",
      "Epoch 6/15\n",
      "10469/10469 [==============================] - 1512s 144ms/step - loss: 1.1316 - val_loss: 1.1535\n",
      "Epoch 7/15\n",
      "10469/10469 [==============================] - 1512s 144ms/step - loss: 1.1226 - val_loss: 1.1458\n",
      "Epoch 8/15\n",
      "10469/10469 [==============================] - 1512s 144ms/step - loss: 1.1164 - val_loss: 1.1541\n",
      "Epoch 9/15\n",
      "10469/10469 [==============================] - 1514s 145ms/step - loss: 1.1082 - val_loss: 1.1529\n",
      "Epoch 10/15\n",
      "10469/10469 [==============================] - 1515s 145ms/step - loss: 1.1027 - val_loss: 1.1488\n",
      "Epoch 11/15\n",
      "10469/10469 [==============================] - 1517s 145ms/step - loss: 1.0963 - val_loss: 1.1521\n",
      "Epoch 12/15\n",
      "10469/10469 [==============================] - 1515s 145ms/step - loss: 1.0921 - val_loss: 1.1681\n",
      "Epoch 13/15\n",
      "10469/10469 [==============================] - 1517s 145ms/step - loss: 1.0889 - val_loss: 1.1676\n",
      "Epoch 14/15\n",
      "10469/10469 [==============================] - 1518s 145ms/step - loss: 1.0848 - val_loss: 1.1737\n",
      "Epoch 15/15\n",
      "10469/10469 [==============================] - 1517s 145ms/step - loss: 1.0807 - val_loss: 1.1729\n"
     ]
    }
   ],
   "source": [
    "history = cnn_model.fit(\n",
    "    [x_train.input_ids, x_train.token_type_ids, x_train.attention_mask],\n",
    "    y_train,\n",
    "    validation_data=([x_test.input_ids, x_test.token_type_ids, x_test.attention_mask], y_test),\n",
    "    callbacks=[history_logger],\n",
    "    batch_size=32,\n",
    "    epochs=15\n",
    ")"
   ]
  },
  {
   "cell_type": "code",
   "execution_count": 15,
   "id": "c305062f-2434-4b9b-92e2-f101ab46e204",
   "metadata": {},
   "outputs": [
    {
     "name": "stdout",
     "output_type": "stream",
     "text": [
      "Train r2: 0.0319083224813566\n",
      "Test r2: -0.05289855444643999\n"
     ]
    }
   ],
   "source": [
    "# calculate final r2 scores, and save results\n",
    "train_variance = statistics.variance(train['reviewer_avg_rating'])\n",
    "test_variance = statistics.variance(test['reviewer_avg_rating'])\n",
    "\n",
    "final_train_loss = history.history['loss'][-1]\n",
    "final_test_loss = history.history['val_loss'][-1]\n",
    "\n",
    "train_r2 = (train_variance - final_train_loss) / train_variance\n",
    "test_r2 = (test_variance - final_test_loss) / test_variance\n",
    "\n",
    "print(f'Train r2: {train_r2}')\n",
    "print(f'Test r2: {test_r2}')\n",
    "\n",
    "r2_scores = (train_r2, test_r2)"
   ]
  },
  {
   "cell_type": "code",
   "execution_count": 16,
   "id": "b7effc95-127d-44d8-bb51-6bc7a20ddaf7",
   "metadata": {},
   "outputs": [
    {
     "data": {
      "image/png": "[encoded data removed]",
      "text/plain": [
       "<Figure size 640x480 with 1 Axes>"
      ]
     },
     "metadata": {},
     "output_type": "display_data"
    }
   ],
   "source": [
    "%run -i ./Model_Eval.ipynb\n",
    "plot_loss(history, model_dir, r2_scores)"
   ]
  },
  {
   "cell_type": "code",
   "execution_count": null,
   "id": "f1faba7d-bb32-41f4-9110-3635a0593a5a",
   "metadata": {},
   "outputs": [],
   "source": []
  }
 ],
 "metadata": {
  "kernelspec": {
   "display_name": "Python 3 (ipykernel)",
   "language": "python",
   "name": "python3"
  },
  "language_info": {
   "codemirror_mode": {
    "name": "ipython",
    "version": 3
   },
   "file_extension": ".py",
   "mimetype": "text/x-python",
   "name": "python",
   "nbconvert_exporter": "python",
   "pygments_lexer": "ipython3",
   "version": "3.8.10"
  }
 },
 "nbformat": 4,
 "nbformat_minor": 5
}
