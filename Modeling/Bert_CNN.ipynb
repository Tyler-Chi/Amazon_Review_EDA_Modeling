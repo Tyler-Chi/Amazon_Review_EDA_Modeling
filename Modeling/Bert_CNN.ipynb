{
 "cells": [
  {
   "cell_type": "code",
   "execution_count": 1,
   "id": "5e053dfe-8343-41e8-9aad-6e7479876be7",
   "metadata": {
    "tags": []
   },
   "outputs": [
    {
     "name": "stderr",
     "output_type": "stream",
     "text": [
      "2023-02-22 01:02:21.179817: I tensorflow/core/platform/cpu_feature_guard.cc:193] This TensorFlow binary is optimized with oneAPI Deep Neural Network Library (oneDNN) to use the following CPU instructions in performance-critical operations:  AVX2 AVX512F AVX512_VNNI FMA\n",
      "To enable them in other operations, rebuild TensorFlow with the appropriate compiler flags.\n",
      "2023-02-22 01:02:21.276776: I tensorflow/core/util/port.cc:104] oneDNN custom operations are on. You may see slightly different numerical results due to floating-point round-off errors from different computation orders. To turn them off, set the environment variable `TF_ENABLE_ONEDNN_OPTS=0`.\n",
      "2023-02-22 01:02:21.706070: W tensorflow/compiler/xla/stream_executor/platform/default/dso_loader.cc:64] Could not load dynamic library 'libnvinfer.so.7'; dlerror: libnvinfer.so.7: cannot open shared object file: No such file or directory; LD_LIBRARY_PATH: :/home/tychi/miniconda3/lib/\n",
      "2023-02-22 01:02:21.706159: W tensorflow/compiler/xla/stream_executor/platform/default/dso_loader.cc:64] Could not load dynamic library 'libnvinfer_plugin.so.7'; dlerror: libnvinfer_plugin.so.7: cannot open shared object file: No such file or directory; LD_LIBRARY_PATH: :/home/tychi/miniconda3/lib/\n",
      "2023-02-22 01:02:21.706165: W tensorflow/compiler/tf2tensorrt/utils/py_utils.cc:38] TF-TRT Warning: Cannot dlopen some TensorRT libraries. If you would like to use Nvidia GPU with TensorRT, please make sure the missing libraries mentioned above are installed properly.\n"
     ]
    }
   ],
   "source": [
    "import numpy as np\n",
    "import tensorflow as tf\n",
    "from tensorflow import keras\n",
    "\n",
    "from tensorflow.keras.layers import Embedding, Input, Dense, Lambda\n",
    "from tensorflow.keras.models import Model\n",
    "import tensorflow.keras.backend as K\n",
    "import seaborn as sns\n",
    "import sklearn as sk\n",
    "import os\n",
    "import nltk\n",
    "from nltk.data import find\n",
    "import matplotlib.pyplot as plt\n",
    "import pandas as pd\n",
    "import re\n",
    "from sklearn.model_selection import train_test_split\n",
    "from contextlib import redirect_stdout\n",
    "import statistics\n",
    "import pickle\n",
    "%run -i ./Model_Eval.ipynb"
   ]
  },
  {
   "cell_type": "code",
   "execution_count": 2,
   "id": "6f0c18ed-5efd-44f7-85e8-1450d0d20464",
   "metadata": {},
   "outputs": [],
   "source": [
    "from transformers import BertTokenizer, TFBertModel"
   ]
  },
  {
   "cell_type": "code",
   "execution_count": 3,
   "id": "0e4d1b64-9706-4fc7-9845-4e2cd8dd819f",
   "metadata": {
    "tags": []
   },
   "outputs": [
    {
     "name": "stderr",
     "output_type": "stream",
     "text": [
      "2023-02-22 01:02:24.344297: I tensorflow/compiler/xla/stream_executor/cuda/cuda_gpu_executor.cc:967] could not open file to read NUMA node: /sys/bus/pci/devices/0000:01:00.0/numa_node\n",
      "Your kernel may have been built without NUMA support.\n",
      "2023-02-22 01:02:24.350784: I tensorflow/compiler/xla/stream_executor/cuda/cuda_gpu_executor.cc:967] could not open file to read NUMA node: /sys/bus/pci/devices/0000:01:00.0/numa_node\n",
      "Your kernel may have been built without NUMA support.\n",
      "2023-02-22 01:02:24.351091: I tensorflow/compiler/xla/stream_executor/cuda/cuda_gpu_executor.cc:967] could not open file to read NUMA node: /sys/bus/pci/devices/0000:01:00.0/numa_node\n",
      "Your kernel may have been built without NUMA support.\n",
      "2023-02-22 01:02:24.351538: I tensorflow/core/platform/cpu_feature_guard.cc:193] This TensorFlow binary is optimized with oneAPI Deep Neural Network Library (oneDNN) to use the following CPU instructions in performance-critical operations:  AVX2 AVX512F AVX512_VNNI FMA\n",
      "To enable them in other operations, rebuild TensorFlow with the appropriate compiler flags.\n",
      "2023-02-22 01:02:24.353216: I tensorflow/compiler/xla/stream_executor/cuda/cuda_gpu_executor.cc:967] could not open file to read NUMA node: /sys/bus/pci/devices/0000:01:00.0/numa_node\n",
      "Your kernel may have been built without NUMA support.\n",
      "2023-02-22 01:02:24.353572: I tensorflow/compiler/xla/stream_executor/cuda/cuda_gpu_executor.cc:967] could not open file to read NUMA node: /sys/bus/pci/devices/0000:01:00.0/numa_node\n",
      "Your kernel may have been built without NUMA support.\n",
      "2023-02-22 01:02:24.353854: I tensorflow/compiler/xla/stream_executor/cuda/cuda_gpu_executor.cc:967] could not open file to read NUMA node: /sys/bus/pci/devices/0000:01:00.0/numa_node\n",
      "Your kernel may have been built without NUMA support.\n",
      "2023-02-22 01:02:25.012596: I tensorflow/compiler/xla/stream_executor/cuda/cuda_gpu_executor.cc:967] could not open file to read NUMA node: /sys/bus/pci/devices/0000:01:00.0/numa_node\n",
      "Your kernel may have been built without NUMA support.\n",
      "2023-02-22 01:02:25.013198: I tensorflow/compiler/xla/stream_executor/cuda/cuda_gpu_executor.cc:967] could not open file to read NUMA node: /sys/bus/pci/devices/0000:01:00.0/numa_node\n",
      "Your kernel may have been built without NUMA support.\n",
      "2023-02-22 01:02:25.013215: I tensorflow/core/common_runtime/gpu/gpu_device.cc:1700] Could not identify NUMA node of platform GPU id 0, defaulting to 0.  Your kernel may not have been built with NUMA support.\n",
      "2023-02-22 01:02:25.013670: I tensorflow/compiler/xla/stream_executor/cuda/cuda_gpu_executor.cc:967] could not open file to read NUMA node: /sys/bus/pci/devices/0000:01:00.0/numa_node\n",
      "Your kernel may have been built without NUMA support.\n",
      "2023-02-22 01:02:25.013711: I tensorflow/core/common_runtime/gpu/gpu_device.cc:1613] Created device /job:localhost/replica:0/task:0/device:GPU:0 with 7369 MB memory:  -> device: 0, name: NVIDIA GeForce RTX 3080, pci bus id: 0000:01:00.0, compute capability: 8.6\n",
      "2023-02-22 01:02:26.041119: I tensorflow/compiler/xla/stream_executor/cuda/cuda_blas.cc:630] TensorFloat-32 will be used for the matrix multiplication. This will only be logged once.\n",
      "Some layers from the model checkpoint at nlptown/bert-base-multilingual-uncased-sentiment were not used when initializing TFBertModel: ['classifier', 'dropout_37']\n",
      "- This IS expected if you are initializing TFBertModel from the checkpoint of a model trained on another task or with another architecture (e.g. initializing a BertForSequenceClassification model from a BertForPreTraining model).\n",
      "- This IS NOT expected if you are initializing TFBertModel from the checkpoint of a model that you expect to be exactly identical (initializing a BertForSequenceClassification model from a BertForSequenceClassification model).\n",
      "All the layers of TFBertModel were initialized from the model checkpoint at nlptown/bert-base-multilingual-uncased-sentiment.\n",
      "If your task is similar to the task the model of the checkpoint was trained on, you can already use TFBertModel for predictions without further training.\n"
     ]
    }
   ],
   "source": [
    "bert_tokenizer = BertTokenizer.from_pretrained('nlptown/bert-base-multilingual-uncased-sentiment')\n",
    "bert_model = TFBertModel.from_pretrained('nlptown/bert-base-multilingual-uncased-sentiment')"
   ]
  },
  {
   "cell_type": "code",
   "execution_count": 4,
   "id": "dfc8b38a-f186-4f3a-a461-1a4161a1a990",
   "metadata": {},
   "outputs": [],
   "source": [
    "one_star_reviews = pd.read_csv(\"../Training_Data/one_star_reviews_balanced.csv\", nrows=500000)\n",
    "# one_star_reviews = pd.read_csv(\"../Training_Data/one_star_reviews_balanced.csv\", nrows=50)"
   ]
  },
  {
   "cell_type": "code",
   "execution_count": 5,
   "id": "11064def-fe55-4029-b817-a325d44daa15",
   "metadata": {},
   "outputs": [],
   "source": [
    "lengths = [len(text.split(' ')) for text in one_star_reviews['full_text'].values if len(text.split(' ')) < 250]"
   ]
  },
  {
   "cell_type": "code",
   "execution_count": 6,
   "id": "54e9c8af-81b8-406a-838d-d18d662d177b",
   "metadata": {},
   "outputs": [
    {
     "data": {
      "image/png": "[encoded data removed]",
      "text/plain": [
       "<Figure size 500x500 with 1 Axes>"
      ]
     },
     "metadata": {},
     "output_type": "display_data"
    }
   ],
   "source": [
    "sns.displot(lengths, bins=15)\n",
    "plt.xlabel('# Words in Review')\n",
    "plt.show()"
   ]
  },
  {
   "cell_type": "markdown",
   "id": "540aa026-bd88-440e-9355-c95b45b1152d",
   "metadata": {},
   "source": [
    "## Should be able to cap tokenizer length at 50, to reduce the window for CNN layers to convolve over."
   ]
  },
  {
   "cell_type": "code",
   "execution_count": 7,
   "id": "3dad77f8-baad-4dbc-9935-24d85359b9a6",
   "metadata": {},
   "outputs": [],
   "source": [
    "max_length = 50"
   ]
  },
  {
   "cell_type": "code",
   "execution_count": 8,
   "id": "147e3aa1-8353-4f1e-ae82-9af1ad47dc7e",
   "metadata": {},
   "outputs": [],
   "source": [
    "train, test = train_test_split(one_star_reviews, test_size=0.33, random_state=42)"
   ]
  },
  {
   "cell_type": "code",
   "execution_count": 9,
   "id": "6c767763-f8a5-4e32-b9a0-087a3cf54cdf",
   "metadata": {},
   "outputs": [],
   "source": [
    "x_train = bert_tokenizer(train['full_text'].tolist(),\n",
    "              max_length=max_length,\n",
    "              truncation=True,\n",
    "              padding='max_length', \n",
    "              return_tensors='tf')\n",
    "y_train = tf.convert_to_tensor(train['reviewer_avg_rating'])"
   ]
  },
  {
   "cell_type": "code",
   "execution_count": 10,
   "id": "6ef107a8-e21c-4908-8906-c582304082ef",
   "metadata": {},
   "outputs": [],
   "source": [
    "x_test = bert_tokenizer(test['full_text'].tolist(),\n",
    "              max_length=max_length,\n",
    "              truncation=True,\n",
    "              padding='max_length', \n",
    "              return_tensors='tf')\n",
    "y_test = tf.convert_to_tensor(test['reviewer_avg_rating'])"
   ]
  },
  {
   "cell_type": "code",
   "execution_count": 11,
   "id": "1f9580d8-6f8d-41d5-9084-7469adf1074a",
   "metadata": {},
   "outputs": [],
   "source": [
    "def build_bert_cnn_model(bert_model):\n",
    "    bert_model.trainable = False\n",
    "    # 3 BERT input layers\n",
    "    input_ids = tf.keras.layers.Input(shape=(max_length,), dtype=tf.int64, name='input_ids_layer')\n",
    "    token_type_ids = tf.keras.layers.Input(shape=(max_length,), dtype=tf.int64, name='token_type_ids_layer')\n",
    "    attention_mask = tf.keras.layers.Input(shape=(max_length,), dtype=tf.int64, name='attention_mask_layer')\n",
    "\n",
    "    # assemble to pass into bert model\n",
    "    bert_inputs = {'input_ids': input_ids,\n",
    "                   'token_type_ids': token_type_ids,\n",
    "                   'attention_mask': attention_mask}\n",
    "\n",
    "    bert_out = bert_model(bert_inputs)\n",
    "    \n",
    "    sequence_output = bert_out[0]\n",
    "    cls_token = bert_out[1]\n",
    "    \n",
    "    cls_dense_layer = keras.layers.Dense(300, activation='relu')(cls_token)\n",
    "    \n",
    "    concat_layers = [cls_dense_layer] # initialize it with the pooled output, see if that improves model performance.\n",
    "    \n",
    "    # determine these kernel/filters based on max_length\n",
    "    kernel_sizes = [2,3,4]\n",
    "    num_filters = [30,30,30]\n",
    "    \n",
    "    filter_num = 0\n",
    "    for kernel_size, filters in zip(kernel_sizes, num_filters):\n",
    "        conv_layer = keras.layers.Conv1D(filters=filters, kernel_size=kernel_size, activation='relu')(sequence_output)\n",
    "        pooling_layer = keras.layers.GlobalMaxPooling1D()(conv_layer)\n",
    "        dropout_pooling_layer = keras.layers.Dropout(0.2, name=f'filter_{filter_num}_dropout_0.2')(pooling_layer)\n",
    "        filter_num += 1\n",
    "        concat_layers.append(dropout_pooling_layer)\n",
    "    \n",
    "    conv_output = tf.keras.layers.concatenate(concat_layers, axis=1)\n",
    "    \n",
    "    # 2 dense layers\n",
    "    net = keras.layers.Dense(300, activation='relu')(conv_output)\n",
    "    net = keras.layers.Dense(200, activation='relu')(net)\n",
    "                         \n",
    "    regression = keras.layers.Dense(1, activation='linear', name='prediction_layer')(net)\n",
    "    cnn_model = keras.Model(\n",
    "        inputs=[input_ids, token_type_ids, attention_mask],\n",
    "        outputs=regression\n",
    "    )\n",
    "    \n",
    "    cnn_model.compile(\n",
    "        # optimizer=keras.optimizers.Adam(learning_rate=0.0005), # half of the normal learning rate\n",
    "        optimizer='adam',\n",
    "        loss='mean_squared_error'\n",
    "    )\n",
    "                         \n",
    "    return cnn_model"
   ]
  },
  {
   "cell_type": "code",
   "execution_count": 12,
   "id": "9ce4b12d-268d-4291-a296-5aed36813127",
   "metadata": {},
   "outputs": [],
   "source": [
    "cnn_model = build_bert_cnn_model(bert_model)"
   ]
  },
  {
   "cell_type": "code",
   "execution_count": 13,
   "id": "09e5f640-29eb-4309-9f42-6c28f6a08e6a",
   "metadata": {},
   "outputs": [
    {
     "ename": "FileExistsError",
     "evalue": "[Errno 17] File exists: '././Model_Results/02_22_01'",
     "output_type": "error",
     "traceback": [
      "\u001b[0;31m---------------------------------------------------------------------------\u001b[0m",
      "\u001b[0;31mFileExistsError\u001b[0m                           Traceback (most recent call last)",
      "Cell \u001b[0;32mIn [13], line 10\u001b[0m\n\u001b[1;32m      6\u001b[0m current_time \u001b[38;5;241m=\u001b[39m now\u001b[38;5;241m.\u001b[39mstrftime(\u001b[38;5;124m\"\u001b[39m\u001b[38;5;124m%\u001b[39m\u001b[38;5;124mm_\u001b[39m\u001b[38;5;132;01m%d\u001b[39;00m\u001b[38;5;124m_\u001b[39m\u001b[38;5;124m%\u001b[39m\u001b[38;5;124mH\u001b[39m\u001b[38;5;124m\"\u001b[39m)\n\u001b[1;32m      8\u001b[0m model_dir \u001b[38;5;241m=\u001b[39m \u001b[38;5;124mf\u001b[39m\u001b[38;5;124m\"\u001b[39m\u001b[38;5;124m./Model_Results/\u001b[39m\u001b[38;5;132;01m{\u001b[39;00mcurrent_time\u001b[38;5;132;01m}\u001b[39;00m\u001b[38;5;124m\"\u001b[39m\n\u001b[0;32m---> 10\u001b[0m \u001b[43mos\u001b[49m\u001b[38;5;241;43m.\u001b[39;49m\u001b[43mmakedirs\u001b[49m\u001b[43m(\u001b[49m\u001b[38;5;124;43mf\u001b[39;49m\u001b[38;5;124;43m\"\u001b[39;49m\u001b[38;5;124;43m./\u001b[39;49m\u001b[38;5;132;43;01m{\u001b[39;49;00m\u001b[43mmodel_dir\u001b[49m\u001b[38;5;132;43;01m}\u001b[39;49;00m\u001b[38;5;124;43m\"\u001b[39;49m\u001b[43m)\u001b[49m\n\u001b[1;32m     12\u001b[0m \u001b[38;5;66;03m# save the model summary to a text file\u001b[39;00m\n\u001b[1;32m     13\u001b[0m \u001b[38;5;28;01mwith\u001b[39;00m \u001b[38;5;28mopen\u001b[39m(\u001b[38;5;124mf\u001b[39m\u001b[38;5;124m'\u001b[39m\u001b[38;5;124m./\u001b[39m\u001b[38;5;132;01m{\u001b[39;00mmodel_dir\u001b[38;5;132;01m}\u001b[39;00m\u001b[38;5;124m/modelsummary.txt\u001b[39m\u001b[38;5;124m'\u001b[39m, \u001b[38;5;124m'\u001b[39m\u001b[38;5;124mx\u001b[39m\u001b[38;5;124m'\u001b[39m) \u001b[38;5;28;01mas\u001b[39;00m f:\n",
      "File \u001b[0;32m/usr/lib/python3.8/os.py:223\u001b[0m, in \u001b[0;36mmakedirs\u001b[0;34m(name, mode, exist_ok)\u001b[0m\n\u001b[1;32m    221\u001b[0m         \u001b[38;5;28;01mreturn\u001b[39;00m\n\u001b[1;32m    222\u001b[0m \u001b[38;5;28;01mtry\u001b[39;00m:\n\u001b[0;32m--> 223\u001b[0m     \u001b[43mmkdir\u001b[49m\u001b[43m(\u001b[49m\u001b[43mname\u001b[49m\u001b[43m,\u001b[49m\u001b[43m \u001b[49m\u001b[43mmode\u001b[49m\u001b[43m)\u001b[49m\n\u001b[1;32m    224\u001b[0m \u001b[38;5;28;01mexcept\u001b[39;00m \u001b[38;5;167;01mOSError\u001b[39;00m:\n\u001b[1;32m    225\u001b[0m     \u001b[38;5;66;03m# Cannot rely on checking for EEXIST, since the operating system\u001b[39;00m\n\u001b[1;32m    226\u001b[0m     \u001b[38;5;66;03m# could give priority to other errors like EACCES or EROFS\u001b[39;00m\n\u001b[1;32m    227\u001b[0m     \u001b[38;5;28;01mif\u001b[39;00m \u001b[38;5;129;01mnot\u001b[39;00m exist_ok \u001b[38;5;129;01mor\u001b[39;00m \u001b[38;5;129;01mnot\u001b[39;00m path\u001b[38;5;241m.\u001b[39misdir(name):\n",
      "\u001b[0;31mFileExistsError\u001b[0m: [Errno 17] File exists: '././Model_Results/02_22_01'"
     ]
    }
   ],
   "source": [
    "from datetime import datetime\n",
    "now = datetime.now()\n",
    "import os\n",
    "\n",
    "# just uniique directory name\n",
    "current_time = now.strftime(\"%m_%d_%H\")\n",
    "\n",
    "model_dir = f\"./Model_Results/{current_time}\"\n",
    "\n",
    "os.makedirs(f\"./{model_dir}\")\n",
    "\n",
    "# save the model summary to a text file\n",
    "with open(f'./{model_dir}/modelsummary.txt', 'x') as f:\n",
    "    with redirect_stdout(f):\n",
    "        cnn_model.summary()\n",
    "\n",
    "filename=f'./{model_dir}/log.csv'\n",
    "history_logger=tf.keras.callbacks.CSVLogger(filename, separator=\",\", append=True)"
   ]
  },
  {
   "cell_type": "code",
   "execution_count": null,
   "id": "0f2d60d3-10fc-4902-a630-cc1f6cc4db70",
   "metadata": {},
   "outputs": [],
   "source": [
    "# stop if val_loss stops improving! to avoid overfitting.\n",
    "early_stop_callback = tf.keras.callbacks.EarlyStopping(monitor=\"val_loss\", patience=4)"
   ]
  },
  {
   "cell_type": "code",
   "execution_count": null,
   "id": "730e9975-7135-401e-8c51-93ed1d4c0db3",
   "metadata": {},
   "outputs": [],
   "source": [
    "history = cnn_model.fit(\n",
    "    [x_train.input_ids, x_train.token_type_ids, x_train.attention_mask],\n",
    "    y_train,\n",
    "    validation_data=([x_test.input_ids, x_test.token_type_ids, x_test.attention_mask], y_test),\n",
    "    callbacks=[early_stop_callback, history_logger],\n",
    "    batch_size=32, # try small batch size to avoid overfitting.\n",
    "    epochs=20\n",
    ")"
   ]
  },
  {
   "cell_type": "code",
   "execution_count": null,
   "id": "c305062f-2434-4b9b-92e2-f101ab46e204",
   "metadata": {},
   "outputs": [],
   "source": [
    "# calculate final r2 scores, and save results\n",
    "train_variance = statistics.variance(train['reviewer_avg_rating'])\n",
    "test_variance = statistics.variance(test['reviewer_avg_rating'])\n",
    "\n",
    "final_train_loss = history.history['loss'][-1]\n",
    "final_test_loss = history.history['val_loss'][-1]\n",
    "\n",
    "train_r2 = (train_variance - final_train_loss) / train_variance\n",
    "test_r2 = (test_variance - final_test_loss) / test_variance\n",
    "\n",
    "print(f'Train r2: {train_r2}')\n",
    "print(f'Test r2: {test_r2}')\n",
    "\n",
    "r2_scores = (train_r2, test_r2)"
   ]
  },
  {
   "cell_type": "code",
   "execution_count": null,
   "id": "b7effc95-127d-44d8-bb51-6bc7a20ddaf7",
   "metadata": {},
   "outputs": [],
   "source": [
    "%run -i ./Model_Eval.ipynb\n",
    "plot_loss(history, model_dir, r2_scores)"
   ]
  },
  {
   "cell_type": "code",
   "execution_count": null,
   "id": "fd6fdd60-1733-42e7-8c31-2704e41acc4b",
   "metadata": {},
   "outputs": [],
   "source": [
    "import inspect\n",
    "model_build_code = inspect.getsource(build_bert_cnn_model)"
   ]
  },
  {
   "cell_type": "code",
   "execution_count": null,
   "id": "66cdbad2-b52a-4abb-b685-945300dc75aa",
   "metadata": {},
   "outputs": [],
   "source": [
    "# save the model summary to a text file\n",
    "with open(f'./{model_dir}/model_build_code.txt', 'x') as f:\n",
    "    with redirect_stdout(f):\n",
    "        print(model_build_code)"
   ]
  },
  {
   "cell_type": "code",
   "execution_count": null,
   "id": "595e5134-fca3-49d2-b6f5-6f05647d25a7",
   "metadata": {},
   "outputs": [],
   "source": []
  }
 ],
 "metadata": {
  "kernelspec": {
   "display_name": "Python 3 (ipykernel)",
   "language": "python",
   "name": "python3"
  },
  "language_info": {
   "codemirror_mode": {
    "name": "ipython",
    "version": 3
   },
   "file_extension": ".py",
   "mimetype": "text/x-python",
   "name": "python",
   "nbconvert_exporter": "python",
   "pygments_lexer": "ipython3",
   "version": "3.8.10"
  }
 },
 "nbformat": 4,
 "nbformat_minor": 5
}
