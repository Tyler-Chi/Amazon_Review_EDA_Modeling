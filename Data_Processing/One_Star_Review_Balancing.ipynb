{
 "cells": [
  {
   "cell_type": "markdown",
   "id": "9a7fd31e-29a1-4339-914b-5aa166a3795b",
   "metadata": {},
   "source": [
    "### Initial modeling mainly just predicts the average (~3.5) because this is the most common value.\n",
    "### need to make it more balanced towards the upper and lower ends\n",
    "### essentially balance one_star_reviews.csv"
   ]
  },
  {
   "cell_type": "code",
   "execution_count": 2,
   "id": "ec7b5582-512e-4afd-b06f-82b77f483ec3",
   "metadata": {},
   "outputs": [],
   "source": [
    "import pandas as pd"
   ]
  },
  {
   "cell_type": "code",
   "execution_count": 3,
   "id": "152391cd-7eca-486b-8962-030a4b2b3c11",
   "metadata": {},
   "outputs": [
    {
     "data": {
      "text/plain": [
       "(4059805, 2)"
      ]
     },
     "execution_count": 3,
     "metadata": {},
     "output_type": "execute_result"
    }
   ],
   "source": [
    "one_star_reviews = pd.read_csv(\"../Training_Data/one_star_reviews.csv\")\n",
    "one_star_reviews.shape"
   ]
  },
  {
   "cell_type": "code",
   "execution_count": 4,
   "id": "f47ff449-852c-44c9-a913-e3c0d506b074",
   "metadata": {},
   "outputs": [
    {
     "data": {
      "text/html": [
       "<div>\n",
       "<style scoped>\n",
       "    .dataframe tbody tr th:only-of-type {\n",
       "        vertical-align: middle;\n",
       "    }\n",
       "\n",
       "    .dataframe tbody tr th {\n",
       "        vertical-align: top;\n",
       "    }\n",
       "\n",
       "    .dataframe thead th {\n",
       "        text-align: right;\n",
       "    }\n",
       "</style>\n",
       "<table border=\"1\" class=\"dataframe\">\n",
       "  <thead>\n",
       "    <tr style=\"text-align: right;\">\n",
       "      <th></th>\n",
       "      <th>full_text</th>\n",
       "      <th>reviewer_avg_rating</th>\n",
       "    </tr>\n",
       "  </thead>\n",
       "  <tbody>\n",
       "    <tr>\n",
       "      <th>0</th>\n",
       "      <td>Returning to Pretty crappy. Won&amp;rsquo;t connec...</td>\n",
       "      <td>3.333333</td>\n",
       "    </tr>\n",
       "    <tr>\n",
       "      <th>1</th>\n",
       "      <td>Can not connect to ECHO Not happy. Can not con...</td>\n",
       "      <td>2.333333</td>\n",
       "    </tr>\n",
       "    <tr>\n",
       "      <th>2</th>\n",
       "      <td>Pathetic Who would think you would have to spe...</td>\n",
       "      <td>3.384615</td>\n",
       "    </tr>\n",
       "  </tbody>\n",
       "</table>\n",
       "</div>"
      ],
      "text/plain": [
       "                                           full_text  reviewer_avg_rating\n",
       "0  Returning to Pretty crappy. Won&rsquo;t connec...             3.333333\n",
       "1  Can not connect to ECHO Not happy. Can not con...             2.333333\n",
       "2  Pathetic Who would think you would have to spe...             3.384615"
      ]
     },
     "execution_count": 4,
     "metadata": {},
     "output_type": "execute_result"
    }
   ],
   "source": [
    "one_star_reviews.head(3)"
   ]
  },
  {
   "cell_type": "code",
   "execution_count": 17,
   "id": "8f1c88b8-6414-44e7-8d89-62d8f5041108",
   "metadata": {},
   "outputs": [
    {
     "data": {
      "text/plain": [
       "(261582, 2)"
      ]
     },
     "execution_count": 17,
     "metadata": {},
     "output_type": "execute_result"
    }
   ],
   "source": [
    "bucket_1_2 = one_star_reviews.query('reviewer_avg_rating < 2').sample(frac = 1)\n",
    "bucket_1_2.shape"
   ]
  },
  {
   "cell_type": "code",
   "execution_count": 18,
   "id": "3d09c071-9c0a-47e1-927b-37dd39776ebd",
   "metadata": {},
   "outputs": [
    {
     "data": {
      "text/plain": [
       "(888743, 2)"
      ]
     },
     "execution_count": 18,
     "metadata": {},
     "output_type": "execute_result"
    }
   ],
   "source": [
    "bucket_2_3 = one_star_reviews.query('reviewer_avg_rating >= 2 & reviewer_avg_rating < 3').sample(frac = 1)\n",
    "bucket_2_3.shape"
   ]
  },
  {
   "cell_type": "code",
   "execution_count": 19,
   "id": "dccbfd3b-1ba9-4b01-a430-8e74f2a9529f",
   "metadata": {},
   "outputs": [
    {
     "data": {
      "text/plain": [
       "(1883244, 2)"
      ]
     },
     "execution_count": 19,
     "metadata": {},
     "output_type": "execute_result"
    }
   ],
   "source": [
    "bucket_3_4 = one_star_reviews.query('reviewer_avg_rating >= 3 & reviewer_avg_rating < 4').sample(frac = 1)\n",
    "bucket_3_4.shape"
   ]
  },
  {
   "cell_type": "code",
   "execution_count": 21,
   "id": "2646df6a-07e7-4dcd-8a35-2d932f4cd615",
   "metadata": {},
   "outputs": [
    {
     "data": {
      "text/plain": [
       "(1026236, 2)"
      ]
     },
     "execution_count": 21,
     "metadata": {},
     "output_type": "execute_result"
    }
   ],
   "source": [
    "bucket_4_5 = one_star_reviews.query('reviewer_avg_rating >= 4 & reviewer_avg_rating <= 5').sample(frac = 1)\n",
    "bucket_4_5.shape"
   ]
  },
  {
   "cell_type": "markdown",
   "id": "54239662-8de4-4dcd-8ed1-49aae2076ac2",
   "metadata": {},
   "source": [
    "### Seems like the main bottleneck is the 1-2 range, which only has 260k representatives.\n",
    "### Will balance the dataset to each have around 260k representatives. "
   ]
  },
  {
   "cell_type": "code",
   "execution_count": 22,
   "id": "f1e8e6f6-ddb5-402e-8749-c08eeb4cfbe5",
   "metadata": {},
   "outputs": [
    {
     "data": {
      "text/html": [
       "<div>\n",
       "<style scoped>\n",
       "    .dataframe tbody tr th:only-of-type {\n",
       "        vertical-align: middle;\n",
       "    }\n",
       "\n",
       "    .dataframe tbody tr th {\n",
       "        vertical-align: top;\n",
       "    }\n",
       "\n",
       "    .dataframe thead th {\n",
       "        text-align: right;\n",
       "    }\n",
       "</style>\n",
       "<table border=\"1\" class=\"dataframe\">\n",
       "  <thead>\n",
       "    <tr style=\"text-align: right;\">\n",
       "      <th></th>\n",
       "      <th>full_text</th>\n",
       "      <th>reviewer_avg_rating</th>\n",
       "    </tr>\n",
       "  </thead>\n",
       "  <tbody>\n",
       "  </tbody>\n",
       "</table>\n",
       "</div>"
      ],
      "text/plain": [
       "Empty DataFrame\n",
       "Columns: [full_text, reviewer_avg_rating]\n",
       "Index: []"
      ]
     },
     "execution_count": 22,
     "metadata": {},
     "output_type": "execute_result"
    }
   ],
   "source": [
    "balanced_dataset = pd.DataFrame(columns=['full_text', 'reviewer_avg_rating'])\n",
    "balanced_dataset"
   ]
  },
  {
   "cell_type": "code",
   "execution_count": 23,
   "id": "80eae19e-9547-4b94-8baf-15b7e2a4f0c8",
   "metadata": {},
   "outputs": [],
   "source": [
    "bucket_size = bucket_1_2.shape[0]"
   ]
  },
  {
   "cell_type": "code",
   "execution_count": 24,
   "id": "414f6584-ba42-4e4c-9e20-6d5dfa021cf8",
   "metadata": {},
   "outputs": [],
   "source": [
    "balanced_dataset = pd.concat([balanced_dataset, bucket_1_2])"
   ]
  },
  {
   "cell_type": "code",
   "execution_count": 26,
   "id": "41b5dfbe-bae1-4838-a662-6d3f912b8b5c",
   "metadata": {},
   "outputs": [],
   "source": [
    "balanced_dataset = pd.concat([balanced_dataset, bucket_2_3.head(bucket_size)])"
   ]
  },
  {
   "cell_type": "code",
   "execution_count": 27,
   "id": "e7077a99-cf33-4bf2-9aa8-f60a4d5cf9e2",
   "metadata": {},
   "outputs": [],
   "source": [
    "balanced_dataset = pd.concat([balanced_dataset, bucket_3_4.head(bucket_size)])"
   ]
  },
  {
   "cell_type": "code",
   "execution_count": 28,
   "id": "2c5a7b0c-9e9b-4236-b48b-6e6c312cf8df",
   "metadata": {},
   "outputs": [],
   "source": [
    "balanced_dataset = pd.concat([balanced_dataset, bucket_4_5.head(bucket_size)])"
   ]
  },
  {
   "cell_type": "code",
   "execution_count": 29,
   "id": "dbef9fa3-cc07-4e7d-b19c-42d1d6cd0983",
   "metadata": {},
   "outputs": [
    {
     "data": {
      "text/plain": [
       "(1046328, 2)"
      ]
     },
     "execution_count": 29,
     "metadata": {},
     "output_type": "execute_result"
    }
   ],
   "source": [
    "balanced_dataset.shape"
   ]
  },
  {
   "cell_type": "code",
   "execution_count": 30,
   "id": "caf2cdfb-f1df-40e3-bead-029617110325",
   "metadata": {},
   "outputs": [],
   "source": [
    "balanced_dataset.to_csv(\"../Training_Data/one_star_reviews_balanced.csv\", index=False)"
   ]
  },
  {
   "cell_type": "code",
   "execution_count": null,
   "id": "60a708c7-065c-4ad0-82ad-d41c1271bde2",
   "metadata": {},
   "outputs": [],
   "source": []
  }
 ],
 "metadata": {
  "kernelspec": {
   "display_name": "Python 3 (ipykernel)",
   "language": "python",
   "name": "python3"
  },
  "language_info": {
   "codemirror_mode": {
    "name": "ipython",
    "version": 3
   },
   "file_extension": ".py",
   "mimetype": "text/x-python",
   "name": "python",
   "nbconvert_exporter": "python",
   "pygments_lexer": "ipython3",
   "version": "3.8.10"
  }
 },
 "nbformat": 4,
 "nbformat_minor": 5
}
