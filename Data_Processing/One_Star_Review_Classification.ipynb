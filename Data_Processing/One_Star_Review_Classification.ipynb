{
 "cells": [
  {
   "cell_type": "markdown",
   "id": "1cda4e52-1c4b-493c-afe7-01573c1dfbd6",
   "metadata": {},
   "source": [
    "# Regression models have performed pretty poorly, will try to turn this into a classification question. "
   ]
  },
  {
   "cell_type": "code",
   "execution_count": 14,
   "id": "838a6340-9ae7-4d88-9189-4b61b21617c4",
   "metadata": {},
   "outputs": [],
   "source": [
    "import pandas as pd\n",
    "import seaborn as sns\n",
    "import matplotlib.pyplot as plt"
   ]
  },
  {
   "cell_type": "code",
   "execution_count": 2,
   "id": "a0301b08-541d-42cf-a6b9-40088260a3dd",
   "metadata": {},
   "outputs": [],
   "source": [
    "one_star_reviews = pd.read_csv(\"../Training_Data/one_star_reviews.csv\")"
   ]
  },
  {
   "cell_type": "code",
   "execution_count": 5,
   "id": "6fc0bfdc-6032-4b64-be34-d88cd4b9efa7",
   "metadata": {},
   "outputs": [],
   "source": [
    "reviewer_avg_ratings = one_star_reviews['reviewer_avg_rating']"
   ]
  },
  {
   "cell_type": "code",
   "execution_count": 18,
   "id": "b0ab0d23-1e22-4353-98eb-943d99d905c3",
   "metadata": {},
   "outputs": [
    {
     "data": {
      "image/png": "[encoded data removed]",
      "text/plain": [
       "<Figure size 500x500 with 1 Axes>"
      ]
     },
     "metadata": {},
     "output_type": "display_data"
    }
   ],
   "source": [
    "sns.displot(reviewer_avg_ratings, bins=15)\n",
    "plt.xlabel(\"Reviewer Average Rating\")\n",
    "plt.show()"
   ]
  },
  {
   "cell_type": "code",
   "execution_count": 19,
   "id": "b03c7741-da89-4432-aa58-4cb9e28b15ff",
   "metadata": {},
   "outputs": [
    {
     "data": {
      "text/html": [
       "<div>\n",
       "<style scoped>\n",
       "    .dataframe tbody tr th:only-of-type {\n",
       "        vertical-align: middle;\n",
       "    }\n",
       "\n",
       "    .dataframe tbody tr th {\n",
       "        vertical-align: top;\n",
       "    }\n",
       "\n",
       "    .dataframe thead th {\n",
       "        text-align: right;\n",
       "    }\n",
       "</style>\n",
       "<table border=\"1\" class=\"dataframe\">\n",
       "  <thead>\n",
       "    <tr style=\"text-align: right;\">\n",
       "      <th></th>\n",
       "      <th>full_text</th>\n",
       "      <th>reviewer_avg_rating</th>\n",
       "    </tr>\n",
       "  </thead>\n",
       "  <tbody>\n",
       "    <tr>\n",
       "      <th>0</th>\n",
       "      <td>Returning to Pretty crappy. Won&amp;rsquo;t connec...</td>\n",
       "      <td>3.333333</td>\n",
       "    </tr>\n",
       "    <tr>\n",
       "      <th>1</th>\n",
       "      <td>Can not connect to ECHO Not happy. Can not con...</td>\n",
       "      <td>2.333333</td>\n",
       "    </tr>\n",
       "    <tr>\n",
       "      <th>2</th>\n",
       "      <td>Pathetic Who would think you would have to spe...</td>\n",
       "      <td>3.384615</td>\n",
       "    </tr>\n",
       "    <tr>\n",
       "      <th>3</th>\n",
       "      <td>Can't link my account Can't authorize my accou...</td>\n",
       "      <td>4.333333</td>\n",
       "    </tr>\n",
       "    <tr>\n",
       "      <th>4</th>\n",
       "      <td>Problems with Colors and Scenes I love my Lifx...</td>\n",
       "      <td>3.666667</td>\n",
       "    </tr>\n",
       "    <tr>\n",
       "      <th>...</th>\n",
       "      <td>...</td>\n",
       "      <td>...</td>\n",
       "    </tr>\n",
       "    <tr>\n",
       "      <th>4059800</th>\n",
       "      <td>One Star It look nice just like the photo  , b...</td>\n",
       "      <td>4.285714</td>\n",
       "    </tr>\n",
       "    <tr>\n",
       "      <th>4059801</th>\n",
       "      <td>Disappointed in the quality The quality of thi...</td>\n",
       "      <td>2.375000</td>\n",
       "    </tr>\n",
       "    <tr>\n",
       "      <th>4059802</th>\n",
       "      <td>No Pictures Unfortunately all of the pictures ...</td>\n",
       "      <td>3.000000</td>\n",
       "    </tr>\n",
       "    <tr>\n",
       "      <th>4059803</th>\n",
       "      <td>One Star Receive a t-shirt not McQueen,fake,ma...</td>\n",
       "      <td>4.375000</td>\n",
       "    </tr>\n",
       "    <tr>\n",
       "      <th>4059804</th>\n",
       "      <td>Seriously... I don't get these reviews...at al...</td>\n",
       "      <td>4.000000</td>\n",
       "    </tr>\n",
       "  </tbody>\n",
       "</table>\n",
       "<p>4059805 rows × 2 columns</p>\n",
       "</div>"
      ],
      "text/plain": [
       "                                                 full_text  \\\n",
       "0        Returning to Pretty crappy. Won&rsquo;t connec...   \n",
       "1        Can not connect to ECHO Not happy. Can not con...   \n",
       "2        Pathetic Who would think you would have to spe...   \n",
       "3        Can't link my account Can't authorize my accou...   \n",
       "4        Problems with Colors and Scenes I love my Lifx...   \n",
       "...                                                    ...   \n",
       "4059800  One Star It look nice just like the photo  , b...   \n",
       "4059801  Disappointed in the quality The quality of thi...   \n",
       "4059802  No Pictures Unfortunately all of the pictures ...   \n",
       "4059803  One Star Receive a t-shirt not McQueen,fake,ma...   \n",
       "4059804  Seriously... I don't get these reviews...at al...   \n",
       "\n",
       "         reviewer_avg_rating  \n",
       "0                   3.333333  \n",
       "1                   2.333333  \n",
       "2                   3.384615  \n",
       "3                   4.333333  \n",
       "4                   3.666667  \n",
       "...                      ...  \n",
       "4059800             4.285714  \n",
       "4059801             2.375000  \n",
       "4059802             3.000000  \n",
       "4059803             4.375000  \n",
       "4059804             4.000000  \n",
       "\n",
       "[4059805 rows x 2 columns]"
      ]
     },
     "execution_count": 19,
     "metadata": {},
     "output_type": "execute_result"
    }
   ],
   "source": [
    "one_star_reviews"
   ]
  },
  {
   "cell_type": "code",
   "execution_count": null,
   "id": "ef4556cb-9e87-4e46-8474-3978552cf2a1",
   "metadata": {},
   "outputs": [],
   "source": []
  }
 ],
 "metadata": {
  "kernelspec": {
   "display_name": "Python 3 (ipykernel)",
   "language": "python",
   "name": "python3"
  },
  "language_info": {
   "codemirror_mode": {
    "name": "ipython",
    "version": 3
   },
   "file_extension": ".py",
   "mimetype": "text/x-python",
   "name": "python",
   "nbconvert_exporter": "python",
   "pygments_lexer": "ipython3",
   "version": "3.8.10"
  }
 },
 "nbformat": 4,
 "nbformat_minor": 5
}
