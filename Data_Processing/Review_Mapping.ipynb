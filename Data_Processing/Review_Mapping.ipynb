{
 "cells": [
  {
   "cell_type": "markdown",
   "id": "cf5ce0d3-472c-4cdd-8d40-666140fc6c06",
   "metadata": {},
   "source": [
    "# Initial Mapping of Amazon Reviews"
   ]
  },
  {
   "cell_type": "code",
   "execution_count": 1,
   "id": "b8899a9f-0352-4f66-95de-eb68a875b4d4",
   "metadata": {},
   "outputs": [
    {
     "data": {
      "text/plain": [
       "16"
      ]
     },
     "execution_count": 1,
     "metadata": {},
     "output_type": "execute_result"
    }
   ],
   "source": [
    "import pandas as pd\n",
    "from random import randint\n",
    "from tqdm import tqdm\n",
    "import pickle\n",
    "import multiprocessing\n",
    "pd.options.mode.chained_assignment = None  # default='warn' # this is needed because setting temporary column value on chunk"
   ]
  },
  {
   "cell_type": "code",
   "execution_count": 2,
   "id": "d765431c-9acb-46dc-8403-4b62a2b1cdc4",
   "metadata": {},
   "outputs": [],
   "source": [
    "ratings = [1,2,3,4,5]\n",
    "columns = ['reviewerID', *[f'{rating}*' for rating in ratings]]\n",
    "# initialize empty csv with proper headers\n",
    "empty_df = pd.DataFrame(columns=[columns])\n",
    "empty_df.to_csv(\"./reviewer_data_non_reduced.csv\", index=False)"
   ]
  },
  {
   "cell_type": "code",
   "execution_count": 3,
   "id": "537286d7-ad6a-4103-bd5d-0596df45a258",
   "metadata": {},
   "outputs": [],
   "source": [
    "# this is essentially a miniature map-reduce\n",
    "# will append the 1* -> 5* columns, using vectorization (which already uses all cores)\n",
    "# then remove the unnecessary columns, to reduce memory usage.\n",
    "# then reduce by the reviewerID, adding up the columns\n",
    "\n",
    "def process_chunk(review_chunk):\n",
    "    review_chunk = review_chunk[['reviewerID', 'overall']]\n",
    "    for rating in ratings:\n",
    "        review_chunk[f'{rating}*'] = (review_chunk['overall'] == rating).astype(int)\n",
    "    review_chunk.drop(['overall'], axis=1, inplace=True)\n",
    "    review_chunk = review_chunk.groupby('reviewerID').sum()\n",
    "    return review_chunk"
   ]
  },
  {
   "cell_type": "code",
   "execution_count": 4,
   "id": "13e6b11f-f9c7-47c2-b445-c36d3bc19dfb",
   "metadata": {},
   "outputs": [
    {
     "name": "stderr",
     "output_type": "stream",
     "text": [
      "234it [56:54, 14.59s/it]                                                                                                \n"
     ]
    }
   ],
   "source": [
    "num_rows = 230 * (10**6) # around 230 million rows\n",
    "chunksize = 1000000\n",
    "\n",
    "with tqdm(total=num_rows / chunksize) as pbar:\n",
    "    for chunk in pd.read_json(\n",
    "        \"../Amazon_Review_Data/All_Amazon_Review.json.gz\",\n",
    "        lines=True,\n",
    "        chunksize=chunksize,\n",
    "        compression=\"gzip\",\n",
    "    ):\n",
    "        processed_chunk = process_chunk(chunk)\n",
    "        # need to specify header=False to prevent column names from being added as a row\n",
    "        # mode=\"a\" to append to existing csv\n",
    "        # index=True (default) because I don't want the reviewerID to become the index\n",
    "        processed_chunk.to_csv(\"./Intermediate_Datasets/reviewer_data_non_reduced.csv\", mode=\"a\", header=False)\n",
    "        pbar.update(1)"
   ]
  }
 ],
 "metadata": {
  "kernelspec": {
   "display_name": "Python 3 (ipykernel)",
   "language": "python",
   "name": "python3"
  },
  "language_info": {
   "codemirror_mode": {
    "name": "ipython",
    "version": 3
   },
   "file_extension": ".py",
   "mimetype": "text/x-python",
   "name": "python",
   "nbconvert_exporter": "python",
   "pygments_lexer": "ipython3",
   "version": "3.8.10"
  }
 },
 "nbformat": 4,
 "nbformat_minor": 5
}
