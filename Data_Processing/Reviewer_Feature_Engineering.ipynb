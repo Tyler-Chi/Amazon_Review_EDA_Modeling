{
 "cells": [
  {
   "cell_type": "markdown",
   "id": "f2daa7dd-1692-4d18-b6c9-eedc3e0ee5c7",
   "metadata": {},
   "source": [
    "# Reviewer Feature Engineering"
   ]
  },
  {
   "cell_type": "markdown",
   "id": "8d8e3b9c-a97d-4625-8b7c-ab0051cc9172",
   "metadata": {},
   "source": [
    "Now that the reviewer data has been mapped and consolidated, it just has the following columns:\n",
    "\n",
    "reviewerID | 1* | 2* | 3* | 4* | 5*\n",
    "\n",
    "Still want to add some various metrics:\n",
    "\n",
    "activity | avg_review | std_reviews"
   ]
  },
  {
   "cell_type": "code",
   "execution_count": 1,
   "id": "6ebba19e-b1ef-407a-bf62-e552bd26f4e5",
   "metadata": {},
   "outputs": [],
   "source": [
    "import pandas as pd\n",
    "import numpy as np\n",
    "import seaborn as sns\n",
    "import matplotlib.pyplot as plt\n",
    "pd.options.mode.chained_assignment = None\n",
    "%matplotlib inline"
   ]
  },
  {
   "cell_type": "code",
   "execution_count": 2,
   "id": "ce36f5d5-edb9-4b28-9890-0b48c97c2d0a",
   "metadata": {},
   "outputs": [],
   "source": [
    "consolidated_reviewer_data = pd.read_csv(\"./Intermediate_Datasets/consolidated_reviewer_data.csv\")"
   ]
  },
  {
   "cell_type": "code",
   "execution_count": 3,
   "id": "674c06fa-532e-4976-8f48-20f0a3486e12",
   "metadata": {},
   "outputs": [
    {
     "data": {
      "text/plain": [
       "(43531850, 6)"
      ]
     },
     "execution_count": 3,
     "metadata": {},
     "output_type": "execute_result"
    }
   ],
   "source": [
    "consolidated_reviewer_data.shape # as expected, there are around 43 million rows"
   ]
  },
  {
   "cell_type": "code",
   "execution_count": 4,
   "id": "417327c7-d7cb-4f9f-93e9-5c3e38cc6f6c",
   "metadata": {},
   "outputs": [],
   "source": [
    "ratings = [1,2,3,4,5]\n",
    "rating_columns = ['1*','2*','3*','4*','5*']"
   ]
  },
  {
   "cell_type": "code",
   "execution_count": 5,
   "id": "f5b9b4a9-a47b-47d7-9ce2-65fa938be0ac",
   "metadata": {},
   "outputs": [],
   "source": [
    "consolidated_reviewer_data['activity'] = consolidated_reviewer_data[rating_columns].sum(axis=1)"
   ]
  },
  {
   "cell_type": "code",
   "execution_count": 6,
   "id": "0978d466-7051-4037-bb81-077395072487",
   "metadata": {},
   "outputs": [
    {
     "data": {
      "text/plain": [
       "233055318"
      ]
     },
     "execution_count": 6,
     "metadata": {},
     "output_type": "execute_result"
    }
   ],
   "source": [
    "consolidated_reviewer_data['activity'].sum() #as expected, around 230 million reviews"
   ]
  },
  {
   "cell_type": "code",
   "execution_count": 7,
   "id": "fe535271-7411-49ee-85d8-fdb53e834031",
   "metadata": {},
   "outputs": [],
   "source": [
    "consolidated_reviewer_data['avg_rating'] = \\\n",
    "    ( consolidated_reviewer_data['1*'] + \\\n",
    "     2*consolidated_reviewer_data['2*'] + \\\n",
    "     3*consolidated_reviewer_data['3*'] + \\\n",
    "     4*consolidated_reviewer_data['4*'] + \\\n",
    "     5*consolidated_reviewer_data['5*'] ) / \\\n",
    "    consolidated_reviewer_data['activity']"
   ]
  },
  {
   "cell_type": "markdown",
   "id": "cb6ca1a6-8af6-4e5f-9207-6ac31c2040ca",
   "metadata": {},
   "source": [
    "## Vectorized approach to calculating standard deviation\n",
    "\n",
    "###### Main difficulty is that we have # of each rating, not a list of ratings"
   ]
  },
  {
   "cell_type": "code",
   "execution_count": 8,
   "id": "bdaa344e-2515-4b03-a681-da9df5167788",
   "metadata": {},
   "outputs": [],
   "source": [
    "consolidated_reviewer_data['sum_resid_squared'] = 0\n",
    "\n",
    "for rating, rating_column in zip(ratings, rating_columns):\n",
    "    # the right side is essentially (resid^2 + resid^2 + resid^2), which is just count*(resid^2)\n",
    "    consolidated_reviewer_data['sum_resid_squared'] += \\\n",
    "        consolidated_reviewer_data[rating_column] * (rating - consolidated_reviewer_data['avg_rating'])**2\n",
    "    \n",
    "# now divide by n-1, and squarerot\n",
    "consolidated_reviewer_data['std_reviews'] = \\\n",
    "    (consolidated_reviewer_data['sum_resid_squared'] / (consolidated_reviewer_data['activity'])) ** 0.5"
   ]
  },
  {
   "cell_type": "code",
   "execution_count": 9,
   "id": "9da7e2f4-3123-4cf4-8118-13199eed8ae2",
   "metadata": {},
   "outputs": [],
   "source": [
    "consolidated_reviewer_data.drop(columns=['sum_resid_squared'], inplace=True)"
   ]
  },
  {
   "cell_type": "markdown",
   "id": "424fa51a-0b11-4234-b798-0becc51983e7",
   "metadata": {},
   "source": [
    "## Double check the calculations"
   ]
  },
  {
   "cell_type": "code",
   "execution_count": 10,
   "id": "3d6c2bab-1134-41b6-ad71-ac738a7b443e",
   "metadata": {},
   "outputs": [
    {
     "data": {
      "text/html": [
       "<div>\n",
       "<style scoped>\n",
       "    .dataframe tbody tr th:only-of-type {\n",
       "        vertical-align: middle;\n",
       "    }\n",
       "\n",
       "    .dataframe tbody tr th {\n",
       "        vertical-align: top;\n",
       "    }\n",
       "\n",
       "    .dataframe thead th {\n",
       "        text-align: right;\n",
       "    }\n",
       "</style>\n",
       "<table border=\"1\" class=\"dataframe\">\n",
       "  <thead>\n",
       "    <tr style=\"text-align: right;\">\n",
       "      <th></th>\n",
       "      <th>reviewerID</th>\n",
       "      <th>1*</th>\n",
       "      <th>2*</th>\n",
       "      <th>3*</th>\n",
       "      <th>4*</th>\n",
       "      <th>5*</th>\n",
       "      <th>activity</th>\n",
       "      <th>avg_rating</th>\n",
       "      <th>std_reviews</th>\n",
       "    </tr>\n",
       "  </thead>\n",
       "  <tbody>\n",
       "    <tr>\n",
       "      <th>9</th>\n",
       "      <td>A002556217M3R4LLKZHR</td>\n",
       "      <td>0</td>\n",
       "      <td>1</td>\n",
       "      <td>0</td>\n",
       "      <td>0</td>\n",
       "      <td>2</td>\n",
       "      <td>3</td>\n",
       "      <td>4.000000</td>\n",
       "      <td>1.414214</td>\n",
       "    </tr>\n",
       "    <tr>\n",
       "      <th>18</th>\n",
       "      <td>A0048432VUYJSUTI513P</td>\n",
       "      <td>0</td>\n",
       "      <td>1</td>\n",
       "      <td>0</td>\n",
       "      <td>0</td>\n",
       "      <td>2</td>\n",
       "      <td>3</td>\n",
       "      <td>4.000000</td>\n",
       "      <td>1.414214</td>\n",
       "    </tr>\n",
       "    <tr>\n",
       "      <th>27</th>\n",
       "      <td>A0081581LX99MYDYNRIB</td>\n",
       "      <td>1</td>\n",
       "      <td>0</td>\n",
       "      <td>1</td>\n",
       "      <td>0</td>\n",
       "      <td>5</td>\n",
       "      <td>7</td>\n",
       "      <td>4.142857</td>\n",
       "      <td>1.456863</td>\n",
       "    </tr>\n",
       "    <tr>\n",
       "      <th>31</th>\n",
       "      <td>A0092179C7BLLJP4Y2WP</td>\n",
       "      <td>0</td>\n",
       "      <td>2</td>\n",
       "      <td>0</td>\n",
       "      <td>0</td>\n",
       "      <td>1</td>\n",
       "      <td>3</td>\n",
       "      <td>3.000000</td>\n",
       "      <td>1.414214</td>\n",
       "    </tr>\n",
       "    <tr>\n",
       "      <th>38</th>\n",
       "      <td>A0116085IRE3KOZX3Y4D</td>\n",
       "      <td>4</td>\n",
       "      <td>1</td>\n",
       "      <td>1</td>\n",
       "      <td>1</td>\n",
       "      <td>12</td>\n",
       "      <td>19</td>\n",
       "      <td>3.842105</td>\n",
       "      <td>1.662691</td>\n",
       "    </tr>\n",
       "  </tbody>\n",
       "</table>\n",
       "</div>"
      ],
      "text/plain": [
       "              reviewerID  1*  2*  3*  4*  5*  activity  avg_rating  \\\n",
       "9   A002556217M3R4LLKZHR   0   1   0   0   2         3    4.000000   \n",
       "18  A0048432VUYJSUTI513P   0   1   0   0   2         3    4.000000   \n",
       "27  A0081581LX99MYDYNRIB   1   0   1   0   5         7    4.142857   \n",
       "31  A0092179C7BLLJP4Y2WP   0   2   0   0   1         3    3.000000   \n",
       "38  A0116085IRE3KOZX3Y4D   4   1   1   1  12        19    3.842105   \n",
       "\n",
       "    std_reviews  \n",
       "9      1.414214  \n",
       "18     1.414214  \n",
       "27     1.456863  \n",
       "31     1.414214  \n",
       "38     1.662691  "
      ]
     },
     "execution_count": 10,
     "metadata": {},
     "output_type": "execute_result"
    }
   ],
   "source": [
    "consolidated_reviewer_data.head(2000).query('std_reviews > 1').head(5)"
   ]
  },
  {
   "cell_type": "code",
   "execution_count": 11,
   "id": "2360309e-edd3-4438-8c8e-42e9feffe4ed",
   "metadata": {},
   "outputs": [
    {
     "data": {
      "text/plain": [
       "1.4142135623730951"
      ]
     },
     "execution_count": 11,
     "metadata": {},
     "output_type": "execute_result"
    }
   ],
   "source": [
    "np.std([2,5,5]) # matches the calculated value in the dataframe"
   ]
  },
  {
   "cell_type": "code",
   "execution_count": 12,
   "id": "86e7451c-8c06-4505-9217-f91ac2e0d347",
   "metadata": {},
   "outputs": [
    {
     "data": {
      "text/html": [
       "<div>\n",
       "<style scoped>\n",
       "    .dataframe tbody tr th:only-of-type {\n",
       "        vertical-align: middle;\n",
       "    }\n",
       "\n",
       "    .dataframe tbody tr th {\n",
       "        vertical-align: top;\n",
       "    }\n",
       "\n",
       "    .dataframe thead th {\n",
       "        text-align: right;\n",
       "    }\n",
       "</style>\n",
       "<table border=\"1\" class=\"dataframe\">\n",
       "  <thead>\n",
       "    <tr style=\"text-align: right;\">\n",
       "      <th></th>\n",
       "      <th>reviewerID</th>\n",
       "      <th>1*</th>\n",
       "      <th>2*</th>\n",
       "      <th>3*</th>\n",
       "      <th>4*</th>\n",
       "      <th>5*</th>\n",
       "      <th>activity</th>\n",
       "      <th>avg_rating</th>\n",
       "      <th>std_reviews</th>\n",
       "    </tr>\n",
       "  </thead>\n",
       "  <tbody>\n",
       "    <tr>\n",
       "      <th>0</th>\n",
       "      <td>A0009674W2SIW8AIECUF</td>\n",
       "      <td>0</td>\n",
       "      <td>0</td>\n",
       "      <td>0</td>\n",
       "      <td>0</td>\n",
       "      <td>2</td>\n",
       "      <td>2</td>\n",
       "      <td>5.0</td>\n",
       "      <td>0.0</td>\n",
       "    </tr>\n",
       "    <tr>\n",
       "      <th>1</th>\n",
       "      <td>A0010028HGBTWSS5F8J6</td>\n",
       "      <td>0</td>\n",
       "      <td>0</td>\n",
       "      <td>0</td>\n",
       "      <td>0</td>\n",
       "      <td>1</td>\n",
       "      <td>1</td>\n",
       "      <td>5.0</td>\n",
       "      <td>0.0</td>\n",
       "    </tr>\n",
       "    <tr>\n",
       "      <th>2</th>\n",
       "      <td>A0011110I4YVY1W3WC02</td>\n",
       "      <td>0</td>\n",
       "      <td>0</td>\n",
       "      <td>0</td>\n",
       "      <td>0</td>\n",
       "      <td>5</td>\n",
       "      <td>5</td>\n",
       "      <td>5.0</td>\n",
       "      <td>0.0</td>\n",
       "    </tr>\n",
       "    <tr>\n",
       "      <th>3</th>\n",
       "      <td>A00142007XJDHJI1P4J5</td>\n",
       "      <td>0</td>\n",
       "      <td>0</td>\n",
       "      <td>0</td>\n",
       "      <td>0</td>\n",
       "      <td>2</td>\n",
       "      <td>2</td>\n",
       "      <td>5.0</td>\n",
       "      <td>0.0</td>\n",
       "    </tr>\n",
       "    <tr>\n",
       "      <th>4</th>\n",
       "      <td>A001753853F77I9Z0WD9</td>\n",
       "      <td>0</td>\n",
       "      <td>0</td>\n",
       "      <td>0</td>\n",
       "      <td>1</td>\n",
       "      <td>0</td>\n",
       "      <td>1</td>\n",
       "      <td>4.0</td>\n",
       "      <td>0.0</td>\n",
       "    </tr>\n",
       "  </tbody>\n",
       "</table>\n",
       "</div>"
      ],
      "text/plain": [
       "             reviewerID  1*  2*  3*  4*  5*  activity  avg_rating  std_reviews\n",
       "0  A0009674W2SIW8AIECUF   0   0   0   0   2         2         5.0          0.0\n",
       "1  A0010028HGBTWSS5F8J6   0   0   0   0   1         1         5.0          0.0\n",
       "2  A0011110I4YVY1W3WC02   0   0   0   0   5         5         5.0          0.0\n",
       "3  A00142007XJDHJI1P4J5   0   0   0   0   2         2         5.0          0.0\n",
       "4  A001753853F77I9Z0WD9   0   0   0   1   0         1         4.0          0.0"
      ]
     },
     "execution_count": 12,
     "metadata": {},
     "output_type": "execute_result"
    }
   ],
   "source": [
    "consolidated_reviewer_data.head(1000).query('std_reviews == 0').head(5)\n",
    "# these are all from users with only one type of rating (like all 5's)"
   ]
  },
  {
   "cell_type": "markdown",
   "id": "96593f51-c181-4afb-aad8-48a9239560ee",
   "metadata": {},
   "source": [
    "## Take an initial look at the distribution"
   ]
  },
  {
   "cell_type": "code",
   "execution_count": 13,
   "id": "1e41678c-b9a5-48ce-b665-d27b4aeb3162",
   "metadata": {},
   "outputs": [
    {
     "data": {
      "text/plain": [
       "count    4.353185e+07\n",
       "mean     5.353674e+00\n",
       "std      1.686515e+01\n",
       "min      0.000000e+00\n",
       "25%      1.000000e+00\n",
       "50%      2.000000e+00\n",
       "75%      4.000000e+00\n",
       "max      1.344600e+04\n",
       "Name: activity, dtype: float64"
      ]
     },
     "execution_count": 13,
     "metadata": {},
     "output_type": "execute_result"
    }
   ],
   "source": [
    "consolidated_reviewer_data['activity'].describe()"
   ]
  },
  {
   "cell_type": "markdown",
   "id": "da83186f-ffe8-4d8c-8d71-d8328f747719",
   "metadata": {},
   "source": [
    "#### Because later models will be trying to predict average rating given a review, need to identify users to include in the training set\n",
    "\n",
    "#### Need to include users with enough reviews to establish a meaningful average\n",
    "#### Don't want too many reviews, because that might not be representative (ie a single reviewer posting 200+ reviews)"
   ]
  },
  {
   "cell_type": "code",
   "execution_count": 14,
   "id": "7ac44db5-30f4-4be4-8601-f67c1d1c8e61",
   "metadata": {},
   "outputs": [],
   "source": [
    "consolidated_reviewer_data['active_reviewer'] = \\\n",
    "    (consolidated_reviewer_data['activity'] > 5) & (consolidated_reviewer_data['activity'] < 15)"
   ]
  },
  {
   "cell_type": "code",
   "execution_count": 15,
   "id": "1e273fa1-d263-4523-bb11-bfd96e4b0487",
   "metadata": {},
   "outputs": [
    {
     "data": {
      "text/plain": [
       "False    37792102\n",
       "True      5739748\n",
       "Name: active_reviewer, dtype: int64"
      ]
     },
     "execution_count": 15,
     "metadata": {},
     "output_type": "execute_result"
    }
   ],
   "source": [
    "consolidated_reviewer_data['active_reviewer'].value_counts()\n",
    "# even after applying condition for \"active_reviewer\", still have almost 4 million users!"
   ]
  },
  {
   "cell_type": "markdown",
   "id": "adb49560-16cd-4fd9-ac5d-a2606fa607b9",
   "metadata": {},
   "source": [
    "## Save for later EDA!"
   ]
  },
  {
   "cell_type": "code",
   "execution_count": 16,
   "id": "ca12b8a6-2715-471a-8891-1f13fdaf44dc",
   "metadata": {},
   "outputs": [],
   "source": [
    "consolidated_reviewer_data.to_csv(\"../Processed_Data/reviewer_data.csv\", index=False)"
   ]
  }
 ],
 "metadata": {
  "kernelspec": {
   "display_name": "Python 3 (ipykernel)",
   "language": "python",
   "name": "python3"
  },
  "language_info": {
   "codemirror_mode": {
    "name": "ipython",
    "version": 3
   },
   "file_extension": ".py",
   "mimetype": "text/x-python",
   "name": "python",
   "nbconvert_exporter": "python",
   "pygments_lexer": "ipython3",
   "version": "3.8.10"
  }
 },
 "nbformat": 4,
 "nbformat_minor": 5
}
