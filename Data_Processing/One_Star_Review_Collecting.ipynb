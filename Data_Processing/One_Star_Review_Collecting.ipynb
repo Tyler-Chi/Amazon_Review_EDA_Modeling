{
 "cells": [
  {
   "cell_type": "markdown",
   "id": "83e55597-a2e4-430c-bcb6-f48ad84e08ae",
   "metadata": {},
   "source": [
    "## Collect the 1* reviews from active reviewers, and merge in the posters average rating\n",
    "\n",
    "## end format:\n",
    "\n",
    "## fullText(summary + reviewText) | reviewer_average_rating"
   ]
  },
  {
   "cell_type": "code",
   "execution_count": null,
   "id": "c2564cf1-5e42-45d6-b637-9206e2498bee",
   "metadata": {},
   "outputs": [],
   "source": [
    "import pandas as pd\n",
    "from tqdm import tqdm\n",
    "import swifter\n",
    "pd.options.mode.chained_assignment = None  # default='warn'"
   ]
  },
  {
   "cell_type": "code",
   "execution_count": 2,
   "id": "2979be11-76bd-441f-b941-31523979f799",
   "metadata": {},
   "outputs": [
    {
     "data": {
      "text/html": [
       "<div>\n",
       "<style scoped>\n",
       "    .dataframe tbody tr th:only-of-type {\n",
       "        vertical-align: middle;\n",
       "    }\n",
       "\n",
       "    .dataframe tbody tr th {\n",
       "        vertical-align: top;\n",
       "    }\n",
       "\n",
       "    .dataframe thead th {\n",
       "        text-align: right;\n",
       "    }\n",
       "</style>\n",
       "<table border=\"1\" class=\"dataframe\">\n",
       "  <thead>\n",
       "    <tr style=\"text-align: right;\">\n",
       "      <th></th>\n",
       "      <th>reviewerID</th>\n",
       "      <th>1*</th>\n",
       "      <th>2*</th>\n",
       "      <th>3*</th>\n",
       "      <th>4*</th>\n",
       "      <th>5*</th>\n",
       "      <th>activity</th>\n",
       "      <th>avg_rating</th>\n",
       "      <th>std_reviews</th>\n",
       "      <th>active_reviewer</th>\n",
       "    </tr>\n",
       "  </thead>\n",
       "  <tbody>\n",
       "    <tr>\n",
       "      <th>8</th>\n",
       "      <td>A0024320PFCKHZ0HWVFN</td>\n",
       "      <td>0</td>\n",
       "      <td>0</td>\n",
       "      <td>1</td>\n",
       "      <td>0</td>\n",
       "      <td>5</td>\n",
       "      <td>6</td>\n",
       "      <td>4.666667</td>\n",
       "      <td>0.745356</td>\n",
       "      <td>True</td>\n",
       "    </tr>\n",
       "    <tr>\n",
       "      <th>15</th>\n",
       "      <td>A0040714X0G8QUCER7Q</td>\n",
       "      <td>0</td>\n",
       "      <td>0</td>\n",
       "      <td>1</td>\n",
       "      <td>2</td>\n",
       "      <td>4</td>\n",
       "      <td>7</td>\n",
       "      <td>4.428571</td>\n",
       "      <td>0.728431</td>\n",
       "      <td>True</td>\n",
       "    </tr>\n",
       "    <tr>\n",
       "      <th>27</th>\n",
       "      <td>A0081581LX99MYDYNRIB</td>\n",
       "      <td>1</td>\n",
       "      <td>0</td>\n",
       "      <td>1</td>\n",
       "      <td>0</td>\n",
       "      <td>5</td>\n",
       "      <td>7</td>\n",
       "      <td>4.142857</td>\n",
       "      <td>1.456863</td>\n",
       "      <td>True</td>\n",
       "    </tr>\n",
       "  </tbody>\n",
       "</table>\n",
       "</div>"
      ],
      "text/plain": [
       "              reviewerID  1*  2*  3*  4*  5*  activity  avg_rating  \\\n",
       "8   A0024320PFCKHZ0HWVFN   0   0   1   0   5         6    4.666667   \n",
       "15   A0040714X0G8QUCER7Q   0   0   1   2   4         7    4.428571   \n",
       "27  A0081581LX99MYDYNRIB   1   0   1   0   5         7    4.142857   \n",
       "\n",
       "    std_reviews  active_reviewer  \n",
       "8      0.745356             True  \n",
       "15     0.728431             True  \n",
       "27     1.456863             True  "
      ]
     },
     "execution_count": 2,
     "metadata": {},
     "output_type": "execute_result"
    }
   ],
   "source": [
    "reviewer_df = pd.read_csv(\"../Processed_Data/reviewer_data.csv\")\n",
    "active_reviewer_df = reviewer_df.query(\"active_reviewer == True\")\n",
    "active_reviewer_ids = set(active_reviewer_df['reviewerID'].unique())\n",
    "active_reviewer_df.head(3)"
   ]
  },
  {
   "cell_type": "code",
   "execution_count": 3,
   "id": "21267385-1e1a-40dd-83ed-489fe68632f4",
   "metadata": {},
   "outputs": [],
   "source": [
    "reviewer_id_average_rating_map = dict (zip(active_reviewer_df['reviewerID'], active_reviewer_df['avg_rating']))"
   ]
  },
  {
   "cell_type": "code",
   "execution_count": 4,
   "id": "266ab7c3-7ecd-4054-849c-a3c24f7ef95c",
   "metadata": {},
   "outputs": [
    {
     "data": {
      "text/plain": [
       "4.142857142857143"
      ]
     },
     "execution_count": 4,
     "metadata": {},
     "output_type": "execute_result"
    }
   ],
   "source": [
    "reviewer_id_average_rating_map['A0081581LX99MYDYNRIB']"
   ]
  },
  {
   "cell_type": "code",
   "execution_count": 5,
   "id": "4ee3980d-f682-4a65-8c36-949dc97abdb8",
   "metadata": {},
   "outputs": [],
   "source": [
    "# initialize empty csv, which will be populated\n",
    "empty_df = pd.DataFrame(columns=['full_text', 'reviewer_avg_rating'])\n",
    "empty_df.to_csv(\"../Training_Data/one_star_reviews.csv\", index=False)"
   ]
  },
  {
   "cell_type": "code",
   "execution_count": 6,
   "id": "77e0e8f2-bf03-42ad-8e6c-3eb5b10e9908",
   "metadata": {},
   "outputs": [],
   "source": [
    "def get_avg_rating_by_reviewer_id(reviewer_row):\n",
    "    reviewerID = reviewer_row['reviewerID']\n",
    "    avg_rating = reviewer_id_average_rating_map[reviewerID]\n",
    "    return avg_rating"
   ]
  },
  {
   "cell_type": "code",
   "execution_count": 7,
   "id": "e19b8d93-77cf-4492-aa8e-217073cba8f5",
   "metadata": {},
   "outputs": [
    {
     "name": "stderr",
     "output_type": "stream",
     "text": [
      " 91%|██████████████████████████████████████████████████████████████████████       | 213/234.0 [1:38:28<07:39, 21.89s/it]IOStream.flush timed out\n",
      "100%|█████████████████████████████████████████████████████████████████████████████| 234/234.0 [1:46:40<00:00, 27.35s/it]\n"
     ]
    }
   ],
   "source": [
    "num_rows = 234 * (10**6) # around 230 million rows\n",
    "chunksize = 1000000\n",
    "last_chunk = None\n",
    "\n",
    "with tqdm(total=num_rows / chunksize) as pbar:\n",
    "    for chunk in pd.read_json(\n",
    "        \"../Amazon_Review_Data/All_Amazon_Review.json.gz\",\n",
    "        lines=True,\n",
    "        chunksize=chunksize,\n",
    "        compression=\"gzip\",\n",
    "    ):\n",
    "        # first filter to the 1* reviews\n",
    "        one_star_reviews = chunk.loc[chunk['overall'] == 1]\n",
    "        active_reviewer_reviews = one_star_reviews.loc[chunk['reviewerID'].isin(active_reviewer_ids)]\n",
    "        save_data = active_reviewer_reviews[['reviewerID', 'summary', 'reviewText']]\n",
    "        save_data['full_text'] = save_data['summary'] + \" \" + save_data['reviewText']\n",
    "        save_data['reviewer_avg_rating'] = save_data.apply(get_avg_rating_by_reviewer_id, axis=1)\n",
    "        save_data = save_data[['full_text', 'reviewer_avg_rating']]\n",
    "        save_data.to_csv(\"../Training_Data/one_star_reviews.csv\", mode=\"a\", header=False)\n",
    "        pbar.update(1)"
   ]
  },
  {
   "cell_type": "markdown",
   "id": "5550aded-b53f-4d8c-945e-283829d4cd3c",
   "metadata": {},
   "source": [
    "## Seems like there is weird formatting stuff"
   ]
  },
  {
   "cell_type": "code",
   "execution_count": null,
   "id": "c9b6b166-ec05-4381-a7b0-6b3092159e6d",
   "metadata": {},
   "outputs": [],
   "source": [
    "training_data = pd.read_csv(\"../Training_Data/one_star_reviews.csv\")"
   ]
  },
  {
   "cell_type": "code",
   "execution_count": null,
   "id": "1395a5f2-f757-4540-ba53-cf68ec22a7b7",
   "metadata": {},
   "outputs": [
    {
     "data": {
      "text/html": [
       "<div>\n",
       "<style scoped>\n",
       "    .dataframe tbody tr th:only-of-type {\n",
       "        vertical-align: middle;\n",
       "    }\n",
       "\n",
       "    .dataframe tbody tr th {\n",
       "        vertical-align: top;\n",
       "    }\n",
       "\n",
       "    .dataframe thead th {\n",
       "        text-align: right;\n",
       "    }\n",
       "</style>\n",
       "<table border=\"1\" class=\"dataframe\">\n",
       "  <thead>\n",
       "    <tr style=\"text-align: right;\">\n",
       "      <th></th>\n",
       "      <th>full_text</th>\n",
       "      <th>reviewer_avg_rating</th>\n",
       "    </tr>\n",
       "  </thead>\n",
       "  <tbody>\n",
       "    <tr>\n",
       "      <th>0</th>\n",
       "      <td>Returning to Pretty crappy. Won&amp;rsquo;t connec...</td>\n",
       "      <td>3.333333</td>\n",
       "    </tr>\n",
       "    <tr>\n",
       "      <th>1</th>\n",
       "      <td>Can not connect to ECHO Not happy. Can not con...</td>\n",
       "      <td>2.333333</td>\n",
       "    </tr>\n",
       "    <tr>\n",
       "      <th>2</th>\n",
       "      <td>Pathetic Who would think you would have to spe...</td>\n",
       "      <td>3.384615</td>\n",
       "    </tr>\n",
       "  </tbody>\n",
       "</table>\n",
       "</div>"
      ],
      "text/plain": [
       "                                           full_text  reviewer_avg_rating\n",
       "0  Returning to Pretty crappy. Won&rsquo;t connec...             3.333333\n",
       "1  Can not connect to ECHO Not happy. Can not con...             2.333333\n",
       "2  Pathetic Who would think you would have to spe...             3.384615"
      ]
     },
     "execution_count": 4,
     "metadata": {},
     "output_type": "execute_result"
    }
   ],
   "source": [
    "training_data.head(3)"
   ]
  },
  {
   "cell_type": "code",
   "execution_count": 15,
   "id": "859bef6c-6ff1-44c7-80ec-21b33ab508a0",
   "metadata": {},
   "outputs": [
    {
     "name": "stderr",
     "output_type": "stream",
     "text": [
      "100%|██████████████████████████████████████████████████████████████████████| 4062204/4062204 [02:03<00:00, 33023.69it/s]\n"
     ]
    }
   ],
   "source": [
    "bad_indices = []\n",
    "for index, row in tqdm(training_data.iterrows(), total=training_data.shape[0]):\n",
    "    full_text, reviewer_avg_rating = row['full_text'], row['reviewer_avg_rating']\n",
    "    if type(full_text) != str:\n",
    "        bad_indices.append(index)"
   ]
  },
  {
   "cell_type": "code",
   "execution_count": 17,
   "id": "554b0162-4a78-4b48-a30e-a4fd531ba8d7",
   "metadata": {},
   "outputs": [],
   "source": [
    "training_data = training_data.drop(bad_indices)"
   ]
  },
  {
   "cell_type": "code",
   "execution_count": 19,
   "id": "c83f18eb-8768-47d4-b6e1-6b7d4e6c9541",
   "metadata": {},
   "outputs": [],
   "source": [
    "training_data.to_csv(\"../Training_Data/one_star_reviews.csv\", index=False)"
   ]
  },
  {
   "cell_type": "code",
   "execution_count": null,
   "id": "698df3c9-6684-4112-adec-f74cba7699d5",
   "metadata": {},
   "outputs": [],
   "source": []
  }
 ],
 "metadata": {
  "kernelspec": {
   "display_name": "Python 3 (ipykernel)",
   "language": "python",
   "name": "python3"
  },
  "language_info": {
   "codemirror_mode": {
    "name": "ipython",
    "version": 3
   },
   "file_extension": ".py",
   "mimetype": "text/x-python",
   "name": "python",
   "nbconvert_exporter": "python",
   "pygments_lexer": "ipython3",
   "version": "3.8.10"
  }
 },
 "nbformat": 4,
 "nbformat_minor": 5
}
