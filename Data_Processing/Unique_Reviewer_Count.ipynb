{
 "cells": [
  {
   "cell_type": "code",
   "execution_count": 13,
   "id": "f0525c26-bcb0-49b6-b50b-1393a4bad9b1",
   "metadata": {},
   "outputs": [],
   "source": [
    "import pandas as pd\n",
    "from tqdm import tqdm\n",
    "import pickle"
   ]
  },
  {
   "cell_type": "code",
   "execution_count": 2,
   "id": "309eb139-8627-46e1-9171-df93f07248e7",
   "metadata": {},
   "outputs": [],
   "source": [
    "reviewer_id_set = set()"
   ]
  },
  {
   "cell_type": "code",
   "execution_count": 11,
   "id": "e1a0e73d-4871-444c-83e5-8b5a34e65658",
   "metadata": {},
   "outputs": [
    {
     "name": "stderr",
     "output_type": "stream",
     "text": [
      "Chunk: 2331 Reviewer_Count: 43531850: : 233100000it [1:13:16, 53022.25it/s]                                             \n"
     ]
    }
   ],
   "source": [
    "# there should be around 230 million rows\n",
    "tqdm._instances.clear()\n",
    "num_rows = 230 * (10**6)\n",
    "chunksize = 100000\n",
    "chunk_count = 0\n",
    "\n",
    "with tqdm(total=num_rows) as pbar:\n",
    "    for chunk in pd.read_json(\n",
    "        \"./Amazon_Review_Data/All_Amazon_Review.json.gz\",\n",
    "        lines=True,\n",
    "        chunksize=chunksize,\n",
    "        compression=\"gzip\"\n",
    "    ):\n",
    "        chunk_count += 1\n",
    "        reviewer_id_set.update(chunk['reviewerID'].unique())\n",
    "        current_reviewer_count = len(reviewer_id_set)\n",
    "        pbar.set_description(f\"Chunk: {chunk_count} Reviewer_Count: {current_reviewer_count}\")\n",
    "        pbar.update(chunksize)"
   ]
  },
  {
   "cell_type": "markdown",
   "id": "ef540963-1799-4993-b4d6-7fe74b876553",
   "metadata": {},
   "source": [
    "# There are around 43M unique reviewers\n",
    "### So an average of ~5 reviews / reviewer"
   ]
  },
  {
   "cell_type": "code",
   "execution_count": 14,
   "id": "8ff64a0b-dfda-40a7-8391-9fa15e36501c",
   "metadata": {},
   "outputs": [
    {
     "data": {
      "text/plain": [
       "43531850"
      ]
     },
     "execution_count": 14,
     "metadata": {},
     "output_type": "execute_result"
    }
   ],
   "source": [
    "len(reviewer_id_set)"
   ]
  },
  {
   "cell_type": "code",
   "execution_count": 15,
   "id": "eaa17c5b-5a9d-4ff8-9493-f137348db35e",
   "metadata": {},
   "outputs": [],
   "source": [
    "with open (\"./All_Reviews/reviewer_ids\", \"wb\") as f:\n",
    "    pickle.dump(reviewer_id_set, f)"
   ]
  },
  {
   "cell_type": "code",
   "execution_count": null,
   "id": "0cd2a173-b6cd-429e-84c1-6e1388cd4389",
   "metadata": {},
   "outputs": [],
   "source": []
  }
 ],
 "metadata": {
  "kernelspec": {
   "display_name": "Python 3 (ipykernel)",
   "language": "python",
   "name": "python3"
  },
  "language_info": {
   "codemirror_mode": {
    "name": "ipython",
    "version": 3
   },
   "file_extension": ".py",
   "mimetype": "text/x-python",
   "name": "python",
   "nbconvert_exporter": "python",
   "pygments_lexer": "ipython3",
   "version": "3.8.10"
  }
 },
 "nbformat": 4,
 "nbformat_minor": 5
}
